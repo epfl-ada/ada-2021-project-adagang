{
  "nbformat": 4,
  "nbformat_minor": 0,
  "metadata": {
    "colab": {
      "name": "milestone2.ipynb",
      "provenance": [],
      "collapsed_sections": []
    },
    "kernelspec": {
      "name": "python3",
      "display_name": "Python 3"
    },
    "language_info": {
      "name": "python"
    }
  },
  "cells": [
    {
      "cell_type": "markdown",
      "metadata": {
        "id": "tczwKWfAyYJu"
      },
      "source": [
        "## Mount the Google Drive\n"
      ]
    },
    {
      "cell_type": "code",
      "metadata": {
        "id": "s4nouZoRwr_F",
        "colab": {
          "base_uri": "https://localhost:8080/"
        },
        "outputId": "29b4bcca-9ee3-47f7-d17d-231e98098a00"
      },
      "source": [
        "from google.colab import drive\n",
        "drive.mount('/content/drive')"
      ],
      "execution_count": null,
      "outputs": [
        {
          "output_type": "stream",
          "name": "stdout",
          "text": [
            "Drive already mounted at /content/drive; to attempt to forcibly remount, call drive.mount(\"/content/drive\", force_remount=True).\n"
          ]
        }
      ]
    },
    {
      "cell_type": "markdown",
      "metadata": {
        "id": "oxwMxJ15yTJz"
      },
      "source": [
        "## Import libraries and packages"
      ]
    },
    {
      "cell_type": "code",
      "metadata": {
        "id": "hvXm_QW_3dun"
      },
      "source": [
        "#!pip install pandas==1.0.5"
      ],
      "execution_count": null,
      "outputs": []
    },
    {
      "cell_type": "code",
      "metadata": {
        "id": "v53_Dy2KwKO2"
      },
      "source": [
        "import pandas as pd\n",
        "import numpy as np\n",
        "import matplotlib.pyplot as plt\n",
        "from datetime import datetime, date, time\n",
        "from dateutil.parser import parse\n",
        "import seaborn as sns\n",
        "import bz2\n",
        "import json"
      ],
      "execution_count": null,
      "outputs": []
    },
    {
      "cell_type": "markdown",
      "metadata": {
        "id": "Cs8AlMfYzSUn"
      },
      "source": [
        "## Quotebank dataset pre-processing"
      ]
    },
    {
      "cell_type": "markdown",
      "metadata": {
        "id": "X29pVWGeAdJD"
      },
      "source": [
        "#### Filtering quotes"
      ]
    },
    {
      "cell_type": "code",
      "metadata": {
        "id": "XYTt9WylAhNf"
      },
      "source": [
        "# Selecting quotations containing the key words that we want tu use and then writting the selected quotations into csv files.\n",
        "def select_quotations(chunk):\n",
        "  keywords = {\"police\"}\n",
        "  chunk.quotation = chunk.quotation.str.lower()\n",
        "  for word in keywords :\n",
        "    clean_chunk = chunk[chunk.quotation.str.contains('|'.join(keywords))]\n",
        "  return clean_chunk\n",
        "\n",
        "def good_quotes_to_csv(path_to_file, path_to_out):\n",
        "  df_reader = pd.read_json (path_to_file, lines=True, compression = 'bz2', chunksize=10000)\n",
        "  for chunk in df_reader :\n",
        "    select_quotations(chunk).to_csv(path_or_buf = path_to_out, compression = 'bz2', mode = 'a')"
      ],
      "execution_count": null,
      "outputs": []
    },
    {
      "cell_type": "code",
      "metadata": {
        "id": "wZYBZlbCArdk"
      },
      "source": [
        "good_quotes_to_csv(\"/content/drive/MyDrive/Quotebank/quotes-2020.json.bz2\",'/content/drive/MyDrive/data_2020.bz2')"
      ],
      "execution_count": null,
      "outputs": []
    },
    {
      "cell_type": "code",
      "metadata": {
        "id": "dgIXHymvOnRo"
      },
      "source": [
        "good_quotes_to_csv(\"/content/drive/MyDrive/Quotebank/quotes-2019.json.bz2\",'/content/drive/MyDrive/data_2019.bz2')"
      ],
      "execution_count": null,
      "outputs": []
    },
    {
      "cell_type": "code",
      "metadata": {
        "id": "j0IuUiuaOonh"
      },
      "source": [
        "good_quotes_to_csv(\"/content/drive/MyDrive/Quotebank/quotes-2018.json.bz2\",'/content/drive/MyDrive/data_2018.bz2')"
      ],
      "execution_count": null,
      "outputs": []
    },
    {
      "cell_type": "code",
      "metadata": {
        "id": "KdmwirOGOpnD"
      },
      "source": [
        "good_quotes_to_csv(\"/content/drive/MyDrive/Quotebank/quotes-2017.json.bz2\",'/content/drive/MyDrive/data_2017.bz2')"
      ],
      "execution_count": null,
      "outputs": []
    },
    {
      "cell_type": "code",
      "metadata": {
        "id": "4kouF4hlOqx5"
      },
      "source": [
        "good_quotes_to_csv(\"/content/drive/MyDrive/Quotebank/quotes-2016.json.bz2\",'/content/drive/MyDrive/data_2016.bz2')"
      ],
      "execution_count": null,
      "outputs": []
    },
    {
      "cell_type": "code",
      "metadata": {
        "id": "1iv4zyZrOskK"
      },
      "source": [
        "good_quotes_to_csv(\"/content/drive/MyDrive/Quotebank/quotes-2015.json.bz2\",'/content/drive/MyDrive/data_2015.bz2')"
      ],
      "execution_count": null,
      "outputs": []
    },
    {
      "cell_type": "markdown",
      "metadata": {
        "id": "JGrLKzTjA8fX"
      },
      "source": [
        "#### Cleaning quotes"
      ]
    },
    {
      "cell_type": "code",
      "metadata": {
        "id": "o5M3kVRGBCrP"
      },
      "source": [
        "# Creating a DataFrame for each year and cleaning it.\n",
        "\n",
        "def clean_df(file):\n",
        "  dataframe = pd.read_csv(file)\n",
        "  dataframe = dataframe.replace(to_replace='None', value=np.nan).dropna()\n",
        "  dataframe.quoteID.drop_duplicates(keep='first', inplace=False)\n",
        "  return dataframe"
      ],
      "execution_count": null,
      "outputs": []
    },
    {
      "cell_type": "code",
      "metadata": {
        "id": "BAxFjbQqIOKV"
      },
      "source": [
        "clean_data_2020 = clean_df('/content/drive/MyDrive/data_2020.bz2')"
      ],
      "execution_count": null,
      "outputs": []
    },
    {
      "cell_type": "code",
      "metadata": {
        "id": "VT72oRQNPBAM"
      },
      "source": [
        "clean_data_2019 = clean_df('/content/drive/MyDrive/data_2019.bz2')"
      ],
      "execution_count": null,
      "outputs": []
    },
    {
      "cell_type": "code",
      "metadata": {
        "id": "CKs6GvuCPBoD"
      },
      "source": [
        "clean_data_2018 = clean_df('/content/drive/MyDrive/data_2018.bz2')"
      ],
      "execution_count": null,
      "outputs": []
    },
    {
      "cell_type": "code",
      "metadata": {
        "id": "1PDvFTeFPND5"
      },
      "source": [
        "clean_data_2017 = clean_df('/content/drive/MyDrive/data_2017.bz2')"
      ],
      "execution_count": null,
      "outputs": []
    },
    {
      "cell_type": "code",
      "metadata": {
        "id": "bZ9-0_s6POIb"
      },
      "source": [
        "clean_data_2016 = clean_df('/content/drive/MyDrive/data_2016.bz2')"
      ],
      "execution_count": null,
      "outputs": []
    },
    {
      "cell_type": "code",
      "metadata": {
        "id": "Lyx7utilPQ-o"
      },
      "source": [
        "clean_data_2015 = clean_df('/content/drive/MyDrive/data_2015.bz2')"
      ],
      "execution_count": null,
      "outputs": []
    },
    {
      "cell_type": "code",
      "metadata": {
        "id": "FFDTCc-yBUL2",
        "colab": {
          "base_uri": "https://localhost:8080/",
          "height": 247
        },
        "outputId": "5598bba9-caf3-4e5b-a7bc-3ae9cb939c9a"
      },
      "source": [
        "# concatenate the dataframes\n",
        "frames = [clean_data_2020, clean_data_2019, clean_data_2018, clean_data_2017, clean_data_2016, clean_data_2016, clean_data_2015]\n",
        "quotes_df = pd.concat(frames, sort = False)\n",
        "\n",
        "# change quote dates from string to Timestamp type\n",
        "quotes_df['date'] = quotes_df.date.apply(lambda x: datetime.strptime(x, '%Y-%m-%d %H:%M:%S'))\n",
        "quotes_df.head(2)"
      ],
      "execution_count": null,
      "outputs": [
        {
          "output_type": "execute_result",
          "data": {
            "text/html": [
              "<div>\n",
              "<style scoped>\n",
              "    .dataframe tbody tr th:only-of-type {\n",
              "        vertical-align: middle;\n",
              "    }\n",
              "\n",
              "    .dataframe tbody tr th {\n",
              "        vertical-align: top;\n",
              "    }\n",
              "\n",
              "    .dataframe thead th {\n",
              "        text-align: right;\n",
              "    }\n",
              "</style>\n",
              "<table border=\"1\" class=\"dataframe\">\n",
              "  <thead>\n",
              "    <tr style=\"text-align: right;\">\n",
              "      <th></th>\n",
              "      <th>Unnamed: 0</th>\n",
              "      <th>quoteID</th>\n",
              "      <th>quotation</th>\n",
              "      <th>speaker</th>\n",
              "      <th>qids</th>\n",
              "      <th>date</th>\n",
              "      <th>numOccurrences</th>\n",
              "      <th>probas</th>\n",
              "      <th>urls</th>\n",
              "      <th>phase</th>\n",
              "    </tr>\n",
              "  </thead>\n",
              "  <tbody>\n",
              "    <tr>\n",
              "      <th>0</th>\n",
              "      <td>23.0</td>\n",
              "      <td>2020-01-05-000384</td>\n",
              "      <td>a 25-year-old sikh man, was killed by unidenti...</td>\n",
              "      <td>Harmeet Singh</td>\n",
              "      <td>['Q16225529', 'Q16228362', 'Q210955', 'Q421580...</td>\n",
              "      <td>2020-01-05 18:29:36</td>\n",
              "      <td>1</td>\n",
              "      <td>[['Harmeet Singh', '0.5227'], ['None', '0.4229...</td>\n",
              "      <td>['http://www.nagalandpost.com/after-nankana-at...</td>\n",
              "      <td>E</td>\n",
              "    </tr>\n",
              "    <tr>\n",
              "      <th>1</th>\n",
              "      <td>93.0</td>\n",
              "      <td>2020-02-16-002091</td>\n",
              "      <td>an expectation of the contact aboriginal and t...</td>\n",
              "      <td>David Elliott</td>\n",
              "      <td>['Q2051773', 'Q21280660', 'Q24299940', 'Q37031...</td>\n",
              "      <td>2020-02-16 13:00:00</td>\n",
              "      <td>9</td>\n",
              "      <td>[['David Elliott', '0.6047'], ['None', '0.3953']]</td>\n",
              "      <td>['http://msn.com/en-au/news/australia/systemic...</td>\n",
              "      <td>E</td>\n",
              "    </tr>\n",
              "  </tbody>\n",
              "</table>\n",
              "</div>"
            ],
            "text/plain": [
              "   Unnamed: 0  ... phase\n",
              "0        23.0  ...     E\n",
              "1        93.0  ...     E\n",
              "\n",
              "[2 rows x 10 columns]"
            ]
          },
          "metadata": {},
          "execution_count": 53
        }
      ]
    },
    {
      "cell_type": "markdown",
      "metadata": {
        "id": "L-3AylLmyIaY"
      },
      "source": [
        "## Load the speaker data"
      ]
    },
    {
      "cell_type": "code",
      "metadata": {
        "id": "gvWlT31_xKEC"
      },
      "source": [
        "# load speaker attributes\n",
        "path_to_file = \"/content/drive/MyDrive/Project datasets/speaker_attributes.parquet\"\n",
        "every_speaker_attributes = pd.read_parquet(path_to_file, engine = 'pyarrow')\n",
        "\n",
        "# load wikidata label descriptions\n",
        "path_to_file = \"/content/drive/MyDrive/Project datasets/wikidata_labels_descriptions_quotebank.csv.bz2\"\n",
        "label_descriptions = pd.read_csv(path_to_file, compression='bz2', index_col='QID')"
      ],
      "execution_count": null,
      "outputs": []
    },
    {
      "cell_type": "markdown",
      "metadata": {
        "id": "V6IdjhNEzHqc"
      },
      "source": [
        "## Speaker dataset pre-processing"
      ]
    },
    {
      "cell_type": "markdown",
      "metadata": {
        "id": "Y19_wtxq1tgA"
      },
      "source": [
        "#### Selecting speakers' attributes only for those having uttered specific quotations"
      ]
    },
    {
      "cell_type": "code",
      "metadata": {
        "id": "4OokqmW1zmXM"
      },
      "source": [
        "# gets attributes for every quoted speaker\n",
        "def get_attributes(attributes_df, quotes_df, id_colname):\n",
        "\n",
        "  # gets all the non null speaker ids (qids) from the quote dataframe\n",
        "  ids = [x for x in quotes_df.explode(id_colname)[id_colname] if str(x) != 'nan']\n",
        "\n",
        "  # selects only the rows in the attributes dataframe of the quoted speakers\n",
        "  speaker_attributes = attributes_df.copy()\n",
        "  speaker_attributes = speaker_attributes[speaker_attributes['id'].isin(ids)]\n",
        "\n",
        "  return speaker_attributes"
      ],
      "execution_count": null,
      "outputs": []
    },
    {
      "cell_type": "code",
      "metadata": {
        "id": "N7F1Mw33znto",
        "colab": {
          "base_uri": "https://localhost:8080/",
          "height": 445
        },
        "outputId": "aa57591b-c0c7-4ca2-c784-772f82bb226f"
      },
      "source": [
        "# gets attributes for every quoted speaker\n",
        "speaker_attributes = get_attributes(every_speaker_attributes, quotes_df, 'qids')\n",
        "\n",
        "# adds the number of times a speaker is quoted in our subset of quotes\n",
        "speaker_attributes['numOccurrences'] = speaker_attributes.groupby('id')['id'].transform('size')\n",
        "# remove duplicate rows (since different quotations can be uttered by the same speaker)\n",
        "speaker_attributes = speaker_attributes.drop_duplicates(subset=['id'])\n",
        "speaker_attributes.head()"
      ],
      "execution_count": null,
      "outputs": [
        {
          "output_type": "execute_result",
          "data": {
            "text/html": [
              "<div>\n",
              "<style scoped>\n",
              "    .dataframe tbody tr th:only-of-type {\n",
              "        vertical-align: middle;\n",
              "    }\n",
              "\n",
              "    .dataframe tbody tr th {\n",
              "        vertical-align: top;\n",
              "    }\n",
              "\n",
              "    .dataframe thead th {\n",
              "        text-align: right;\n",
              "    }\n",
              "</style>\n",
              "<table border=\"1\" class=\"dataframe\">\n",
              "  <thead>\n",
              "    <tr style=\"text-align: right;\">\n",
              "      <th></th>\n",
              "      <th>aliases</th>\n",
              "      <th>date_of_birth</th>\n",
              "      <th>nationality</th>\n",
              "      <th>gender</th>\n",
              "      <th>lastrevid</th>\n",
              "      <th>ethnic_group</th>\n",
              "      <th>US_congress_bio_ID</th>\n",
              "      <th>occupation</th>\n",
              "      <th>party</th>\n",
              "      <th>academic_degree</th>\n",
              "      <th>id</th>\n",
              "      <th>label</th>\n",
              "      <th>candidacy</th>\n",
              "      <th>type</th>\n",
              "      <th>religion</th>\n",
              "      <th>numOccurrences</th>\n",
              "    </tr>\n",
              "  </thead>\n",
              "  <tbody>\n",
              "    <tr>\n",
              "      <th>18</th>\n",
              "      <td>[Namo, Modi, Narendra Bhai, Narendra Damodarda...</td>\n",
              "      <td>[+1950-09-17T00:00:00Z]</td>\n",
              "      <td>[Q668]</td>\n",
              "      <td>[Q6581097]</td>\n",
              "      <td>1395415052</td>\n",
              "      <td>[Q1282294, Q6889284]</td>\n",
              "      <td>None</td>\n",
              "      <td>[Q82955, Q36180, Q7019111, Q10429346]</td>\n",
              "      <td>[Q10230]</td>\n",
              "      <td>None</td>\n",
              "      <td>Q1058</td>\n",
              "      <td>Narendra Modi</td>\n",
              "      <td>[Q63988227, Q63988919, Q16841231, Q16251961, Q...</td>\n",
              "      <td>item</td>\n",
              "      <td>[Q9089]</td>\n",
              "      <td>1</td>\n",
              "    </tr>\n",
              "    <tr>\n",
              "      <th>399</th>\n",
              "      <td>[Ricky Dene Gervais]</td>\n",
              "      <td>[+1961-06-25T00:00:00Z]</td>\n",
              "      <td>[Q145]</td>\n",
              "      <td>[Q6581097]</td>\n",
              "      <td>1395460804</td>\n",
              "      <td>None</td>\n",
              "      <td>None</td>\n",
              "      <td>[Q33999, Q36180, Q639669, Q245068, Q28389, Q27...</td>\n",
              "      <td>None</td>\n",
              "      <td>None</td>\n",
              "      <td>Q23517</td>\n",
              "      <td>Ricky Gervais</td>\n",
              "      <td>None</td>\n",
              "      <td>item</td>\n",
              "      <td>None</td>\n",
              "      <td>1</td>\n",
              "    </tr>\n",
              "    <tr>\n",
              "      <th>27807</th>\n",
              "      <td>[Dave Loebsack]</td>\n",
              "      <td>[+1952-12-23T00:00:00Z]</td>\n",
              "      <td>[Q30]</td>\n",
              "      <td>[Q6581097]</td>\n",
              "      <td>1392893478</td>\n",
              "      <td>None</td>\n",
              "      <td>L000565</td>\n",
              "      <td>[Q82955, Q1622272, Q1238570]</td>\n",
              "      <td>[Q29552]</td>\n",
              "      <td>None</td>\n",
              "      <td>Q771586</td>\n",
              "      <td>David Loebsack</td>\n",
              "      <td>None</td>\n",
              "      <td>item</td>\n",
              "      <td>None</td>\n",
              "      <td>1</td>\n",
              "    </tr>\n",
              "    <tr>\n",
              "      <th>65651</th>\n",
              "      <td>None</td>\n",
              "      <td>[+1931-05-07T00:00:00Z]</td>\n",
              "      <td>[Q145]</td>\n",
              "      <td>[Q6581097]</td>\n",
              "      <td>1392376764</td>\n",
              "      <td>None</td>\n",
              "      <td>None</td>\n",
              "      <td>[Q2059704, Q7042855]</td>\n",
              "      <td>None</td>\n",
              "      <td>None</td>\n",
              "      <td>Q2051773</td>\n",
              "      <td>David Elliott</td>\n",
              "      <td>None</td>\n",
              "      <td>item</td>\n",
              "      <td>None</td>\n",
              "      <td>1</td>\n",
              "    </tr>\n",
              "    <tr>\n",
              "      <th>82463</th>\n",
              "      <td>None</td>\n",
              "      <td>[+1931-09-24T00:00:00Z]</td>\n",
              "      <td>[Q30]</td>\n",
              "      <td>[Q6581097]</td>\n",
              "      <td>1376504203</td>\n",
              "      <td>None</td>\n",
              "      <td>None</td>\n",
              "      <td>[Q2526255]</td>\n",
              "      <td>None</td>\n",
              "      <td>None</td>\n",
              "      <td>Q2926392</td>\n",
              "      <td>Bruce Baillie</td>\n",
              "      <td>None</td>\n",
              "      <td>item</td>\n",
              "      <td>None</td>\n",
              "      <td>1</td>\n",
              "    </tr>\n",
              "  </tbody>\n",
              "</table>\n",
              "</div>"
            ],
            "text/plain": [
              "                                                 aliases  ... numOccurrences\n",
              "18     [Namo, Modi, Narendra Bhai, Narendra Damodarda...  ...              1\n",
              "399                                 [Ricky Dene Gervais]  ...              1\n",
              "27807                                    [Dave Loebsack]  ...              1\n",
              "65651                                               None  ...              1\n",
              "82463                                               None  ...              1\n",
              "\n",
              "[5 rows x 16 columns]"
            ]
          },
          "metadata": {},
          "execution_count": 43
        }
      ]
    },
    {
      "cell_type": "markdown",
      "metadata": {
        "id": "8gHtx8Iv0vCb"
      },
      "source": [
        "#### Pre-processing dates and adding age"
      ]
    },
    {
      "cell_type": "code",
      "metadata": {
        "id": "tue0CyTLzstJ"
      },
      "source": [
        "def year_type(d):\n",
        "  '''Determine whether someone was born AC or BC and add that to a new column.'''\n",
        "  if d is None:\n",
        "    year_type = None\n",
        "  elif d[0][0] == \"+\":\n",
        "    year_type = 'AC'\n",
        "  else:\n",
        "    year_type = 'BC'\n",
        "  return year_type\n",
        "\n",
        "\n",
        "def extract_birthday(d):\n",
        "  '''Get the speakers birthday in a proper format.'''\n",
        "  if d is None:\n",
        "    day, month, year = '01','01', '0001'\n",
        "  else:\n",
        "    d = d[0]\n",
        "    day, month, year = d[9:11], d[6:8], d[1:5]\n",
        "    if int(month) not in range(1,13):\n",
        "      month = '01'\n",
        "    if int(day) not in range(1,32):\n",
        "      day = '01'\n",
        "    if int(year) == 0:\n",
        "      year = '0001'\n",
        "    if (int(day) > 28) & (int(month) == 2):\n",
        "      day = '28'\n",
        "    elif (int(day) > 30) & (int(month) in [4,6,9,11]):\n",
        "      day ='30'\n",
        "    elif int(day)>31:\n",
        "      day = '31'\n",
        "  return day+'-'+month+'-'+year\n",
        "\n",
        "def get_age(date_of_birth, date_of_quotation):\n",
        "  '''Calculate the age of the speaker at the date of the quote.'''\n",
        "  # if the person was born after the quotation\n",
        "  if date_of_birth > date_of_quotation:\n",
        "    return -1\n",
        "  # if one date is missing\n",
        "  if (date_of_birth == datetime(1, 1, 1)) | (date_of_quotation == datetime(1, 1, 1)):\n",
        "    return -1\n",
        "  else:\n",
        "    age = date_of_quotation.year - date_of_birth.year - ((date_of_quotation.month, date_of_quotation.day) < (date_of_birth.month, date_of_birth.day))\n",
        "  return age"
      ],
      "execution_count": null,
      "outputs": []
    },
    {
      "cell_type": "code",
      "metadata": {
        "id": "xtRAUCSpz1iE",
        "colab": {
          "base_uri": "https://localhost:8080/",
          "height": 445
        },
        "outputId": "a7b341a0-1d7f-4517-b4c3-325aa97ae74a"
      },
      "source": [
        "# example of functions to get date of birth in datetime\n",
        "speaker_attributes['year_type'] = speaker_attributes.date_of_birth.apply(lambda d: year_type(d))\n",
        "speaker_attributes.date_of_birth = speaker_attributes.date_of_birth.apply(lambda d: extract_birthday(d))\n",
        "speaker_attributes.date_of_birth = speaker_attributes.date_of_birth.apply(lambda x: datetime.strptime(x, '%d-%m-%Y'))\n",
        "\n",
        "# for each quotation: get the date of the quote, the speaker id and the speaker's birth date to calculate the speaker's age\n",
        "date = speaker_attributes[['id', 'date_of_birth']].copy() # get date of birth\n",
        "quote_date = quotes_df.copy().explode('qids')[['qids', 'date']] # get date of quotation\n",
        "date = date.merge(quote_date, left_on='id', right_on='qids') # merge the two dates into the \"date\" dataframe\n",
        "date = date.rename(columns={\"date\": \"date_of_quotation\"}).drop(columns=['qids'])\n",
        "date['age'] = date.apply(lambda x: get_age(x.date_of_birth, x.date_of_quotation), axis=1) # calculate the age\n",
        "\n",
        "speaker_attributes = speaker_attributes.merge(date[['id', 'age']], on='id') # add the age to the speakers' attributes\n",
        "speaker_attributes.head()"
      ],
      "execution_count": null,
      "outputs": [
        {
          "output_type": "execute_result",
          "data": {
            "text/html": [
              "<div>\n",
              "<style scoped>\n",
              "    .dataframe tbody tr th:only-of-type {\n",
              "        vertical-align: middle;\n",
              "    }\n",
              "\n",
              "    .dataframe tbody tr th {\n",
              "        vertical-align: top;\n",
              "    }\n",
              "\n",
              "    .dataframe thead th {\n",
              "        text-align: right;\n",
              "    }\n",
              "</style>\n",
              "<table border=\"1\" class=\"dataframe\">\n",
              "  <thead>\n",
              "    <tr style=\"text-align: right;\">\n",
              "      <th></th>\n",
              "      <th>aliases</th>\n",
              "      <th>date_of_birth</th>\n",
              "      <th>nationality</th>\n",
              "      <th>gender</th>\n",
              "      <th>lastrevid</th>\n",
              "      <th>ethnic_group</th>\n",
              "      <th>US_congress_bio_ID</th>\n",
              "      <th>occupation</th>\n",
              "      <th>party</th>\n",
              "      <th>academic_degree</th>\n",
              "      <th>id</th>\n",
              "      <th>label</th>\n",
              "      <th>candidacy</th>\n",
              "      <th>type</th>\n",
              "      <th>religion</th>\n",
              "      <th>numOccurrences</th>\n",
              "      <th>year_type</th>\n",
              "      <th>age</th>\n",
              "    </tr>\n",
              "  </thead>\n",
              "  <tbody>\n",
              "    <tr>\n",
              "      <th>0</th>\n",
              "      <td>[Namo, Modi, Narendra Bhai, Narendra Damodarda...</td>\n",
              "      <td>1950-09-17 00:00:00</td>\n",
              "      <td>[Q668]</td>\n",
              "      <td>[Q6581097]</td>\n",
              "      <td>1395415052</td>\n",
              "      <td>[Q1282294, Q6889284]</td>\n",
              "      <td>None</td>\n",
              "      <td>[Q82955, Q36180, Q7019111, Q10429346]</td>\n",
              "      <td>[Q10230]</td>\n",
              "      <td>None</td>\n",
              "      <td>Q1058</td>\n",
              "      <td>Narendra Modi</td>\n",
              "      <td>[Q63988227, Q63988919, Q16841231, Q16251961, Q...</td>\n",
              "      <td>item</td>\n",
              "      <td>[Q9089]</td>\n",
              "      <td>1</td>\n",
              "      <td>AC</td>\n",
              "      <td>69</td>\n",
              "    </tr>\n",
              "    <tr>\n",
              "      <th>1</th>\n",
              "      <td>[Ricky Dene Gervais]</td>\n",
              "      <td>1961-06-25 00:00:00</td>\n",
              "      <td>[Q145]</td>\n",
              "      <td>[Q6581097]</td>\n",
              "      <td>1395460804</td>\n",
              "      <td>None</td>\n",
              "      <td>None</td>\n",
              "      <td>[Q33999, Q36180, Q639669, Q245068, Q28389, Q27...</td>\n",
              "      <td>None</td>\n",
              "      <td>None</td>\n",
              "      <td>Q23517</td>\n",
              "      <td>Ricky Gervais</td>\n",
              "      <td>None</td>\n",
              "      <td>item</td>\n",
              "      <td>None</td>\n",
              "      <td>1</td>\n",
              "      <td>AC</td>\n",
              "      <td>58</td>\n",
              "    </tr>\n",
              "    <tr>\n",
              "      <th>2</th>\n",
              "      <td>[Dave Loebsack]</td>\n",
              "      <td>1952-12-23 00:00:00</td>\n",
              "      <td>[Q30]</td>\n",
              "      <td>[Q6581097]</td>\n",
              "      <td>1392893478</td>\n",
              "      <td>None</td>\n",
              "      <td>L000565</td>\n",
              "      <td>[Q82955, Q1622272, Q1238570]</td>\n",
              "      <td>[Q29552]</td>\n",
              "      <td>None</td>\n",
              "      <td>Q771586</td>\n",
              "      <td>David Loebsack</td>\n",
              "      <td>None</td>\n",
              "      <td>item</td>\n",
              "      <td>None</td>\n",
              "      <td>1</td>\n",
              "      <td>AC</td>\n",
              "      <td>67</td>\n",
              "    </tr>\n",
              "    <tr>\n",
              "      <th>3</th>\n",
              "      <td>None</td>\n",
              "      <td>1931-05-07 00:00:00</td>\n",
              "      <td>[Q145]</td>\n",
              "      <td>[Q6581097]</td>\n",
              "      <td>1392376764</td>\n",
              "      <td>None</td>\n",
              "      <td>None</td>\n",
              "      <td>[Q2059704, Q7042855]</td>\n",
              "      <td>None</td>\n",
              "      <td>None</td>\n",
              "      <td>Q2051773</td>\n",
              "      <td>David Elliott</td>\n",
              "      <td>None</td>\n",
              "      <td>item</td>\n",
              "      <td>None</td>\n",
              "      <td>1</td>\n",
              "      <td>AC</td>\n",
              "      <td>88</td>\n",
              "    </tr>\n",
              "    <tr>\n",
              "      <th>4</th>\n",
              "      <td>None</td>\n",
              "      <td>1931-09-24 00:00:00</td>\n",
              "      <td>[Q30]</td>\n",
              "      <td>[Q6581097]</td>\n",
              "      <td>1376504203</td>\n",
              "      <td>None</td>\n",
              "      <td>None</td>\n",
              "      <td>[Q2526255]</td>\n",
              "      <td>None</td>\n",
              "      <td>None</td>\n",
              "      <td>Q2926392</td>\n",
              "      <td>Bruce Baillie</td>\n",
              "      <td>None</td>\n",
              "      <td>item</td>\n",
              "      <td>None</td>\n",
              "      <td>1</td>\n",
              "      <td>AC</td>\n",
              "      <td>88</td>\n",
              "    </tr>\n",
              "  </tbody>\n",
              "</table>\n",
              "</div>"
            ],
            "text/plain": [
              "                                             aliases  ... age\n",
              "0  [Namo, Modi, Narendra Bhai, Narendra Damodarda...  ...  69\n",
              "1                               [Ricky Dene Gervais]  ...  58\n",
              "2                                    [Dave Loebsack]  ...  67\n",
              "3                                               None  ...  88\n",
              "4                                               None  ...  88\n",
              "\n",
              "[5 rows x 18 columns]"
            ]
          },
          "metadata": {},
          "execution_count": 44
        }
      ]
    },
    {
      "cell_type": "markdown",
      "metadata": {
        "id": "2fPPjmw70_FI"
      },
      "source": [
        "#### Easy querying?"
      ]
    },
    {
      "cell_type": "code",
      "metadata": {
        "id": "CeFOFbYBwg0f"
      },
      "source": [
        "def top_qids(data, column_name, max_labels=5):\n",
        "  '''Get the most frequent qids seen in a given column.'''\n",
        "  #exploding data so each entry in the column is counted once\n",
        "  column_data = data[[column_name]][data[column_name].notnull()]\n",
        "  column_data_explode = column_data.explode(column_name)\n",
        "  \n",
        "  #getting the unique values along with their counts\n",
        "  unique_qids, unique_counts = np.unique(column_data_explode, return_counts=True, return_inverse=False, return_index=False)\n",
        "  sort_ids = np.argsort(unique_counts)\n",
        "  unique_qids = unique_qids[sort_ids]\n",
        "  \n",
        "  #selecting the top qids with threshod max_labels\n",
        "  if len(unique_counts) > max_labels:\n",
        "      qids = unique_qids[-max_labels:]\n",
        "  else:\n",
        "      qids = unique_qids[-len(unique_qids):]\n",
        "      #qids = unique_qids[-len(unique_ids):] ## this was the original line in your code but I got an erro saying that \"unique_ids\" wasn't defined\n",
        "\n",
        "  return qids, column_data\n",
        "\n",
        "\n",
        "def get_labels(label_data, qids):\n",
        "  '''Return the labels for a given set of qids.'''\n",
        "  labels = []\n",
        "  for i in range(len(qids)):\n",
        "    labels.append(label_data[\"Label\"][label_data.QID==qids[i]].item())\n",
        "  return labels\n",
        "\n",
        "\n",
        "def count_qids(column_data, qids, label_data = label_descriptions):\n",
        "  '''Create a histogram of the distribution of the qids in column_data.'''\n",
        "  counts = np.zeros((len(qids),))\n",
        "\n",
        "  # getting frequncy of each qid\n",
        "  for i in range(len(column_data)):\n",
        "    for j in range(len(qids)):\n",
        "      if qids[j] in column_data.iloc[i].item():\n",
        "        counts[j]+=1\n",
        "        \n",
        "  # getting their labels\n",
        "  LABELS = get_labels(label_data, qids)\n",
        "  x = range(len(qids))\n",
        "  \n",
        "  # creating a histogram\n",
        "  plt.bar(x, counts, align='center')\n",
        "  plt.xticks(x, LABELS, rotation = 'vertical')\n",
        "  plt.show()\n",
        "    \n",
        "  return counts"
      ],
      "execution_count": null,
      "outputs": []
    },
    {
      "cell_type": "code",
      "metadata": {
        "id": "15UvwqdP1Rfp",
        "colab": {
          "base_uri": "https://localhost:8080/",
          "height": 341
        },
        "outputId": "64469f3f-1867-41c6-80b1-e8901b96c4a7"
      },
      "source": [
        "# GENDER\n",
        "qids, column_data = top_qids(data = every_speaker_attributes, column_name = 'gender')\n",
        "count_qids(column_data=column_data[0:50000], qids=qids)"
      ],
      "execution_count": null,
      "outputs": [
        {
          "output_type": "error",
          "ename": "AttributeError",
          "evalue": "ignored",
          "traceback": [
            "\u001b[0;31m---------------------------------------------------------------------------\u001b[0m",
            "\u001b[0;31mAttributeError\u001b[0m                            Traceback (most recent call last)",
            "\u001b[0;32m<ipython-input-47-7ff1d15a31fa>\u001b[0m in \u001b[0;36m<module>\u001b[0;34m()\u001b[0m\n\u001b[1;32m      1\u001b[0m \u001b[0;31m# GENDER\u001b[0m\u001b[0;34m\u001b[0m\u001b[0;34m\u001b[0m\u001b[0;34m\u001b[0m\u001b[0m\n\u001b[1;32m      2\u001b[0m \u001b[0mqids\u001b[0m\u001b[0;34m,\u001b[0m \u001b[0mcolumn_data\u001b[0m \u001b[0;34m=\u001b[0m \u001b[0mtop_qids\u001b[0m\u001b[0;34m(\u001b[0m\u001b[0mdata\u001b[0m \u001b[0;34m=\u001b[0m \u001b[0mevery_speaker_attributes\u001b[0m\u001b[0;34m,\u001b[0m \u001b[0mcolumn_name\u001b[0m \u001b[0;34m=\u001b[0m \u001b[0;34m'gender'\u001b[0m\u001b[0;34m)\u001b[0m\u001b[0;34m\u001b[0m\u001b[0;34m\u001b[0m\u001b[0m\n\u001b[0;32m----> 3\u001b[0;31m \u001b[0mcount_qids\u001b[0m\u001b[0;34m(\u001b[0m\u001b[0mcolumn_data\u001b[0m\u001b[0;34m=\u001b[0m\u001b[0mcolumn_data\u001b[0m\u001b[0;34m[\u001b[0m\u001b[0;36m0\u001b[0m\u001b[0;34m:\u001b[0m\u001b[0;36m50000\u001b[0m\u001b[0;34m]\u001b[0m\u001b[0;34m,\u001b[0m \u001b[0mqids\u001b[0m\u001b[0;34m=\u001b[0m\u001b[0mqids\u001b[0m\u001b[0;34m)\u001b[0m\u001b[0;34m\u001b[0m\u001b[0;34m\u001b[0m\u001b[0m\n\u001b[0m",
            "\u001b[0;32m<ipython-input-46-40a71da38644>\u001b[0m in \u001b[0;36mcount_qids\u001b[0;34m(column_data, qids, label_data)\u001b[0m\n\u001b[1;32m     39\u001b[0m \u001b[0;34m\u001b[0m\u001b[0m\n\u001b[1;32m     40\u001b[0m   \u001b[0;31m# getting their labels\u001b[0m\u001b[0;34m\u001b[0m\u001b[0;34m\u001b[0m\u001b[0;34m\u001b[0m\u001b[0m\n\u001b[0;32m---> 41\u001b[0;31m   \u001b[0mLABELS\u001b[0m \u001b[0;34m=\u001b[0m \u001b[0mget_labels\u001b[0m\u001b[0;34m(\u001b[0m\u001b[0mlabel_data\u001b[0m\u001b[0;34m,\u001b[0m \u001b[0mqids\u001b[0m\u001b[0;34m)\u001b[0m\u001b[0;34m\u001b[0m\u001b[0;34m\u001b[0m\u001b[0m\n\u001b[0m\u001b[1;32m     42\u001b[0m   \u001b[0mx\u001b[0m \u001b[0;34m=\u001b[0m \u001b[0mrange\u001b[0m\u001b[0;34m(\u001b[0m\u001b[0mlen\u001b[0m\u001b[0;34m(\u001b[0m\u001b[0mqids\u001b[0m\u001b[0;34m)\u001b[0m\u001b[0;34m)\u001b[0m\u001b[0;34m\u001b[0m\u001b[0;34m\u001b[0m\u001b[0m\n\u001b[1;32m     43\u001b[0m \u001b[0;34m\u001b[0m\u001b[0m\n",
            "\u001b[0;32m<ipython-input-46-40a71da38644>\u001b[0m in \u001b[0;36mget_labels\u001b[0;34m(label_data, qids)\u001b[0m\n\u001b[1;32m     24\u001b[0m   \u001b[0mlabels\u001b[0m \u001b[0;34m=\u001b[0m \u001b[0;34m[\u001b[0m\u001b[0;34m]\u001b[0m\u001b[0;34m\u001b[0m\u001b[0;34m\u001b[0m\u001b[0m\n\u001b[1;32m     25\u001b[0m   \u001b[0;32mfor\u001b[0m \u001b[0mi\u001b[0m \u001b[0;32min\u001b[0m \u001b[0mrange\u001b[0m\u001b[0;34m(\u001b[0m\u001b[0mlen\u001b[0m\u001b[0;34m(\u001b[0m\u001b[0mqids\u001b[0m\u001b[0;34m)\u001b[0m\u001b[0;34m)\u001b[0m\u001b[0;34m:\u001b[0m\u001b[0;34m\u001b[0m\u001b[0;34m\u001b[0m\u001b[0m\n\u001b[0;32m---> 26\u001b[0;31m     \u001b[0mlabels\u001b[0m\u001b[0;34m.\u001b[0m\u001b[0mappend\u001b[0m\u001b[0;34m(\u001b[0m\u001b[0mlabel_data\u001b[0m\u001b[0;34m[\u001b[0m\u001b[0;34m\"Label\"\u001b[0m\u001b[0;34m]\u001b[0m\u001b[0;34m[\u001b[0m\u001b[0mlabel_data\u001b[0m\u001b[0;34m.\u001b[0m\u001b[0mQID\u001b[0m\u001b[0;34m==\u001b[0m\u001b[0mqids\u001b[0m\u001b[0;34m[\u001b[0m\u001b[0mi\u001b[0m\u001b[0;34m]\u001b[0m\u001b[0;34m]\u001b[0m\u001b[0;34m.\u001b[0m\u001b[0mitem\u001b[0m\u001b[0;34m(\u001b[0m\u001b[0;34m)\u001b[0m\u001b[0;34m)\u001b[0m\u001b[0;34m\u001b[0m\u001b[0;34m\u001b[0m\u001b[0m\n\u001b[0m\u001b[1;32m     27\u001b[0m   \u001b[0;32mreturn\u001b[0m \u001b[0mlabels\u001b[0m\u001b[0;34m\u001b[0m\u001b[0;34m\u001b[0m\u001b[0m\n\u001b[1;32m     28\u001b[0m \u001b[0;34m\u001b[0m\u001b[0m\n",
            "\u001b[0;32m/usr/local/lib/python3.7/dist-packages/pandas/core/generic.py\u001b[0m in \u001b[0;36m__getattr__\u001b[0;34m(self, name)\u001b[0m\n\u001b[1;32m   5272\u001b[0m             \u001b[0;32mif\u001b[0m \u001b[0mself\u001b[0m\u001b[0;34m.\u001b[0m\u001b[0m_info_axis\u001b[0m\u001b[0;34m.\u001b[0m\u001b[0m_can_hold_identifiers_and_holds_name\u001b[0m\u001b[0;34m(\u001b[0m\u001b[0mname\u001b[0m\u001b[0;34m)\u001b[0m\u001b[0;34m:\u001b[0m\u001b[0;34m\u001b[0m\u001b[0;34m\u001b[0m\u001b[0m\n\u001b[1;32m   5273\u001b[0m                 \u001b[0;32mreturn\u001b[0m \u001b[0mself\u001b[0m\u001b[0;34m[\u001b[0m\u001b[0mname\u001b[0m\u001b[0;34m]\u001b[0m\u001b[0;34m\u001b[0m\u001b[0;34m\u001b[0m\u001b[0m\n\u001b[0;32m-> 5274\u001b[0;31m             \u001b[0;32mreturn\u001b[0m \u001b[0mobject\u001b[0m\u001b[0;34m.\u001b[0m\u001b[0m__getattribute__\u001b[0m\u001b[0;34m(\u001b[0m\u001b[0mself\u001b[0m\u001b[0;34m,\u001b[0m \u001b[0mname\u001b[0m\u001b[0;34m)\u001b[0m\u001b[0;34m\u001b[0m\u001b[0;34m\u001b[0m\u001b[0m\n\u001b[0m\u001b[1;32m   5275\u001b[0m \u001b[0;34m\u001b[0m\u001b[0m\n\u001b[1;32m   5276\u001b[0m     \u001b[0;32mdef\u001b[0m \u001b[0m__setattr__\u001b[0m\u001b[0;34m(\u001b[0m\u001b[0mself\u001b[0m\u001b[0;34m,\u001b[0m \u001b[0mname\u001b[0m\u001b[0;34m:\u001b[0m \u001b[0mstr\u001b[0m\u001b[0;34m,\u001b[0m \u001b[0mvalue\u001b[0m\u001b[0;34m)\u001b[0m \u001b[0;34m->\u001b[0m \u001b[0;32mNone\u001b[0m\u001b[0;34m:\u001b[0m\u001b[0;34m\u001b[0m\u001b[0;34m\u001b[0m\u001b[0m\n",
            "\u001b[0;31mAttributeError\u001b[0m: 'DataFrame' object has no attribute 'QID'"
          ]
        }
      ]
    },
    {
      "cell_type": "code",
      "metadata": {
        "id": "T-rZ5LCg1ZxH",
        "colab": {
          "base_uri": "https://localhost:8080/",
          "height": 341
        },
        "outputId": "5dff5a08-9e98-4f8a-c3dd-88367ee458a3"
      },
      "source": [
        "# PARTY\n",
        "qids, column_data = top_qids(data = every_speaker_attributes, column_name = 'party')\n",
        "count_qids(column_data=column_data[0:50000], qids=qids)"
      ],
      "execution_count": null,
      "outputs": [
        {
          "output_type": "error",
          "ename": "AttributeError",
          "evalue": "ignored",
          "traceback": [
            "\u001b[0;31m---------------------------------------------------------------------------\u001b[0m",
            "\u001b[0;31mAttributeError\u001b[0m                            Traceback (most recent call last)",
            "\u001b[0;32m<ipython-input-48-6b4424e55c26>\u001b[0m in \u001b[0;36m<module>\u001b[0;34m()\u001b[0m\n\u001b[1;32m      1\u001b[0m \u001b[0;31m# PARTY\u001b[0m\u001b[0;34m\u001b[0m\u001b[0;34m\u001b[0m\u001b[0;34m\u001b[0m\u001b[0m\n\u001b[1;32m      2\u001b[0m \u001b[0mqids\u001b[0m\u001b[0;34m,\u001b[0m \u001b[0mcolumn_data\u001b[0m \u001b[0;34m=\u001b[0m \u001b[0mtop_qids\u001b[0m\u001b[0;34m(\u001b[0m\u001b[0mdata\u001b[0m \u001b[0;34m=\u001b[0m \u001b[0mevery_speaker_attributes\u001b[0m\u001b[0;34m,\u001b[0m \u001b[0mcolumn_name\u001b[0m \u001b[0;34m=\u001b[0m \u001b[0;34m'party'\u001b[0m\u001b[0;34m)\u001b[0m\u001b[0;34m\u001b[0m\u001b[0;34m\u001b[0m\u001b[0m\n\u001b[0;32m----> 3\u001b[0;31m \u001b[0mcount_qids\u001b[0m\u001b[0;34m(\u001b[0m\u001b[0mcolumn_data\u001b[0m\u001b[0;34m=\u001b[0m\u001b[0mcolumn_data\u001b[0m\u001b[0;34m[\u001b[0m\u001b[0;36m0\u001b[0m\u001b[0;34m:\u001b[0m\u001b[0;36m50000\u001b[0m\u001b[0;34m]\u001b[0m\u001b[0;34m,\u001b[0m \u001b[0mqids\u001b[0m\u001b[0;34m=\u001b[0m\u001b[0mqids\u001b[0m\u001b[0;34m)\u001b[0m\u001b[0;34m\u001b[0m\u001b[0;34m\u001b[0m\u001b[0m\n\u001b[0m",
            "\u001b[0;32m<ipython-input-46-40a71da38644>\u001b[0m in \u001b[0;36mcount_qids\u001b[0;34m(column_data, qids, label_data)\u001b[0m\n\u001b[1;32m     39\u001b[0m \u001b[0;34m\u001b[0m\u001b[0m\n\u001b[1;32m     40\u001b[0m   \u001b[0;31m# getting their labels\u001b[0m\u001b[0;34m\u001b[0m\u001b[0;34m\u001b[0m\u001b[0;34m\u001b[0m\u001b[0m\n\u001b[0;32m---> 41\u001b[0;31m   \u001b[0mLABELS\u001b[0m \u001b[0;34m=\u001b[0m \u001b[0mget_labels\u001b[0m\u001b[0;34m(\u001b[0m\u001b[0mlabel_data\u001b[0m\u001b[0;34m,\u001b[0m \u001b[0mqids\u001b[0m\u001b[0;34m)\u001b[0m\u001b[0;34m\u001b[0m\u001b[0;34m\u001b[0m\u001b[0m\n\u001b[0m\u001b[1;32m     42\u001b[0m   \u001b[0mx\u001b[0m \u001b[0;34m=\u001b[0m \u001b[0mrange\u001b[0m\u001b[0;34m(\u001b[0m\u001b[0mlen\u001b[0m\u001b[0;34m(\u001b[0m\u001b[0mqids\u001b[0m\u001b[0;34m)\u001b[0m\u001b[0;34m)\u001b[0m\u001b[0;34m\u001b[0m\u001b[0;34m\u001b[0m\u001b[0m\n\u001b[1;32m     43\u001b[0m \u001b[0;34m\u001b[0m\u001b[0m\n",
            "\u001b[0;32m<ipython-input-46-40a71da38644>\u001b[0m in \u001b[0;36mget_labels\u001b[0;34m(label_data, qids)\u001b[0m\n\u001b[1;32m     24\u001b[0m   \u001b[0mlabels\u001b[0m \u001b[0;34m=\u001b[0m \u001b[0;34m[\u001b[0m\u001b[0;34m]\u001b[0m\u001b[0;34m\u001b[0m\u001b[0;34m\u001b[0m\u001b[0m\n\u001b[1;32m     25\u001b[0m   \u001b[0;32mfor\u001b[0m \u001b[0mi\u001b[0m \u001b[0;32min\u001b[0m \u001b[0mrange\u001b[0m\u001b[0;34m(\u001b[0m\u001b[0mlen\u001b[0m\u001b[0;34m(\u001b[0m\u001b[0mqids\u001b[0m\u001b[0;34m)\u001b[0m\u001b[0;34m)\u001b[0m\u001b[0;34m:\u001b[0m\u001b[0;34m\u001b[0m\u001b[0;34m\u001b[0m\u001b[0m\n\u001b[0;32m---> 26\u001b[0;31m     \u001b[0mlabels\u001b[0m\u001b[0;34m.\u001b[0m\u001b[0mappend\u001b[0m\u001b[0;34m(\u001b[0m\u001b[0mlabel_data\u001b[0m\u001b[0;34m[\u001b[0m\u001b[0;34m\"Label\"\u001b[0m\u001b[0;34m]\u001b[0m\u001b[0;34m[\u001b[0m\u001b[0mlabel_data\u001b[0m\u001b[0;34m.\u001b[0m\u001b[0mQID\u001b[0m\u001b[0;34m==\u001b[0m\u001b[0mqids\u001b[0m\u001b[0;34m[\u001b[0m\u001b[0mi\u001b[0m\u001b[0;34m]\u001b[0m\u001b[0;34m]\u001b[0m\u001b[0;34m.\u001b[0m\u001b[0mitem\u001b[0m\u001b[0;34m(\u001b[0m\u001b[0;34m)\u001b[0m\u001b[0;34m)\u001b[0m\u001b[0;34m\u001b[0m\u001b[0;34m\u001b[0m\u001b[0m\n\u001b[0m\u001b[1;32m     27\u001b[0m   \u001b[0;32mreturn\u001b[0m \u001b[0mlabels\u001b[0m\u001b[0;34m\u001b[0m\u001b[0;34m\u001b[0m\u001b[0m\n\u001b[1;32m     28\u001b[0m \u001b[0;34m\u001b[0m\u001b[0m\n",
            "\u001b[0;32m/usr/local/lib/python3.7/dist-packages/pandas/core/generic.py\u001b[0m in \u001b[0;36m__getattr__\u001b[0;34m(self, name)\u001b[0m\n\u001b[1;32m   5272\u001b[0m             \u001b[0;32mif\u001b[0m \u001b[0mself\u001b[0m\u001b[0;34m.\u001b[0m\u001b[0m_info_axis\u001b[0m\u001b[0;34m.\u001b[0m\u001b[0m_can_hold_identifiers_and_holds_name\u001b[0m\u001b[0;34m(\u001b[0m\u001b[0mname\u001b[0m\u001b[0;34m)\u001b[0m\u001b[0;34m:\u001b[0m\u001b[0;34m\u001b[0m\u001b[0;34m\u001b[0m\u001b[0m\n\u001b[1;32m   5273\u001b[0m                 \u001b[0;32mreturn\u001b[0m \u001b[0mself\u001b[0m\u001b[0;34m[\u001b[0m\u001b[0mname\u001b[0m\u001b[0;34m]\u001b[0m\u001b[0;34m\u001b[0m\u001b[0;34m\u001b[0m\u001b[0m\n\u001b[0;32m-> 5274\u001b[0;31m             \u001b[0;32mreturn\u001b[0m \u001b[0mobject\u001b[0m\u001b[0;34m.\u001b[0m\u001b[0m__getattribute__\u001b[0m\u001b[0;34m(\u001b[0m\u001b[0mself\u001b[0m\u001b[0;34m,\u001b[0m \u001b[0mname\u001b[0m\u001b[0;34m)\u001b[0m\u001b[0;34m\u001b[0m\u001b[0;34m\u001b[0m\u001b[0m\n\u001b[0m\u001b[1;32m   5275\u001b[0m \u001b[0;34m\u001b[0m\u001b[0m\n\u001b[1;32m   5276\u001b[0m     \u001b[0;32mdef\u001b[0m \u001b[0m__setattr__\u001b[0m\u001b[0;34m(\u001b[0m\u001b[0mself\u001b[0m\u001b[0;34m,\u001b[0m \u001b[0mname\u001b[0m\u001b[0;34m:\u001b[0m \u001b[0mstr\u001b[0m\u001b[0;34m,\u001b[0m \u001b[0mvalue\u001b[0m\u001b[0;34m)\u001b[0m \u001b[0;34m->\u001b[0m \u001b[0;32mNone\u001b[0m\u001b[0;34m:\u001b[0m\u001b[0;34m\u001b[0m\u001b[0;34m\u001b[0m\u001b[0m\n",
            "\u001b[0;31mAttributeError\u001b[0m: 'DataFrame' object has no attribute 'QID'"
          ]
        }
      ]
    }
  ]
}