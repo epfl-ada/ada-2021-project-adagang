{
 "cells": [
  {
   "cell_type": "code",
   "execution_count": null,
   "id": "hNcsDD6d3GDe",
   "metadata": {
    "colab": {
     "base_uri": "https://localhost:8080/"
    },
    "id": "hNcsDD6d3GDe",
    "outputId": "9d2473df-0b28-4dd5-ed9b-49e9d40e86bf"
   },
   "outputs": [
    {
     "name": "stdout",
     "output_type": "stream",
     "text": [
      "Drive already mounted at /content/drive; to attempt to forcibly remount, call drive.mount(\"/content/drive\", force_remount=True).\n"
     ]
    }
   ],
   "source": [
    "from google.colab import drive\n",
    "drive._mount('/content/drive')"
   ]
  },
  {
   "cell_type": "markdown",
   "id": "4e2bd94f-6b48-4a86-bfd8-1c4b23871a2a",
   "metadata": {
    "id": "4e2bd94f-6b48-4a86-bfd8-1c4b23871a2a"
   },
   "source": [
    "# Data Pre-Processing"
   ]
  },
  {
   "cell_type": "code",
   "execution_count": null,
   "id": "Ug1NjvMo3TkL",
   "metadata": {
    "id": "Ug1NjvMo3TkL"
   },
   "outputs": [],
   "source": [
    "!pip install pandas==1.0.5\n",
    "!pip install tld"
   ]
  },
  {
   "cell_type": "code",
   "execution_count": null,
   "id": "475dcf9f-de1b-4a3c-a012-df5a37bd02de",
   "metadata": {
    "id": "475dcf9f-de1b-4a3c-a012-df5a37bd02de"
   },
   "outputs": [],
   "source": [
    "# loading necessary packages\n",
    "\n",
    "import os\n",
    "import pandas as pd\n",
    "import numpy as np\n",
    "from tld import get_tld\n",
    "import bz2\n",
    "import json\n",
    "import time\n",
    "from datetime import datetime, date\n",
    "import pickle\n",
    "import glob\n",
    "import matplotlib.pyplot as plt\n",
    "import seaborn as sns"
   ]
  },
  {
   "cell_type": "code",
   "execution_count": null,
   "id": "27b966b4-b7d2-462a-a9b9-3c13620bf3aa",
   "metadata": {
    "id": "27b966b4-b7d2-462a-a9b9-3c13620bf3aa"
   },
   "outputs": [],
   "source": [
    "# paths to raw data\n",
    "\n",
    "PATH_TO_DATA = '/content/drive/MyDrive/ADAgang/data/'\n",
    "\n",
    "PATH_TO_SPEAKER = '/content/drive/MyDrive/ADAgang/data/speaker_attributes.parquet'\n",
    "\n",
    "PATH_TO_LABELS = '/content/drive/MyDrive/ADAgang/data/wikidata_labels_descriptions_quotebank.csv.bz2'\n",
    "\n",
    "PATH_TO_QUOTEBANK = '/content/drive/MyDrive/ADAgang/data/Quotebank'\n",
    "\n",
    "with open(\"/content/drive/MyDrive/ADAgang/generated/keywords.txt\", 'r') as f:\n",
    "    lines = f.read()\n",
    "    KEYS = lines.splitlines()\n",
    "    KEYS = [key.lower() for key in KEYS]\n",
    "    KEYS.sort()"
   ]
  },
  {
   "cell_type": "markdown",
   "id": "6ef80400-af08-4502-97a8-bc47a802cbb8",
   "metadata": {
    "id": "6ef80400-af08-4502-97a8-bc47a802cbb8"
   },
   "source": [
    "# Quotebank Data Wrangling"
   ]
  },
  {
   "cell_type": "markdown",
   "id": "277cf5f4-6713-48cb-9dfe-93ea25ed8e8b",
   "metadata": {
    "id": "277cf5f4-6713-48cb-9dfe-93ea25ed8e8b"
   },
   "source": [
    "The first thing we will do is reduce the Quotebank data down to just the information we need since it is such a large dataset. We decide the first thing to do is to filter by a generous set of keywords that will keep all the data we will need but reduce the number of rows. Then, we will do some cleaning and store the data in a new, much smaller file."
   ]
  },
  {
   "cell_type": "code",
   "execution_count": null,
   "id": "840b340c-d405-4e99-a122-a64c7135caf5",
   "metadata": {
    "id": "840b340c-d405-4e99-a122-a64c7135caf5"
   },
   "outputs": [],
   "source": [
    "# FUNCTIONS FOR QUOTEBANK DATA WRANGLING\n",
    "\n",
    "def filter_by_keywords(chunk, keywords):\n",
    "    '''Return the rows of the dataframe only if the quotation contains any token in the keywords list.'''\n",
    "    chunk_lower = chunk.copy()\n",
    "    chunk_lower['quotation'] = chunk.quotation.str.lower()\n",
    "    chunk = chunk[chunk_lower.quotation.str.contains('|'.join(keywords))]\n",
    "    \n",
    "    return chunk\n",
    "\n",
    "def get_domains(urls):\n",
    "    '''Return the domains of a given list of urls.'''\n",
    "    domains = []\n",
    "    for url in urls:\n",
    "        domain = get_tld(url, as_object=True).domain\n",
    "        domains.append(domain)\n",
    "        \n",
    "    return domains\n",
    "\n",
    "def clean_chunk(chunk):\n",
    "    '''Clean the dataframe.'''\n",
    "    \n",
    "    # remove all rows that have an unknown speaker\n",
    "    chunk = chunk.replace(to_replace='None', value=np.nan).dropna(subset = ['speaker'])\n",
    "    # remove all duplicates\n",
    "    chunk = chunk.drop_duplicates(subset=['quoteID'], keep = 'first')\n",
    "    # add column of domains extracted from urls\n",
    "    chunk['domains'] = chunk.urls.apply(lambda x: get_domains(x))\n",
    "    # remove unnecessary columns\n",
    "    chunk = chunk.drop('phase', axis = 1)\n",
    "    chunk = chunk.drop('urls', axis = 1)\n",
    "    # change date to datetime format\n",
    "    chunk['date'] = chunk.date.astype('datetime64').dt.date\n",
    "    # set index\n",
    "    chunk.set_index(chunk.quoteID, inplace=True)\n",
    "    chunk = chunk.drop(['quoteID'],axis=1)\n",
    "    \n",
    "    return chunk"
   ]
  },
  {
   "cell_type": "code",
   "execution_count": null,
   "id": "13686d30-ace2-49e1-a682-66af62a20187",
   "metadata": {
    "id": "13686d30-ace2-49e1-a682-66af62a20187"
   },
   "outputs": [],
   "source": [
    "# FUNCTIONs TO RUN TO PROCESS LARGE DATA\n",
    "\n",
    "def process_data(path_to_data, path_to_out, path_to_out_sample, keys): \n",
    "    '''Filter and clean data and save to new file and create a sample of the data and save to new file.'''\n",
    "    \n",
    "    data = pd.read_json(path_to_data, lines=True, compression='bz2', chunksize=500000)\n",
    "    start_time = time.time()\n",
    "    # loop through each chunk in the data\n",
    "    for chunk_idx, chunk in enumerate(data):  \n",
    "\n",
    "        print(f'processing chunk {chunk_idx}')\n",
    "        # filter the chunk by keywords and clean it\n",
    "        chunk_filtered = filter_by_keywords(chunk, keys)\n",
    "        chunk_cleaned = clean_chunk(chunk_filtered)\n",
    "        chunk_filtered = []\n",
    "\n",
    "        # extract a random sample (~5%) of the chunk\n",
    "        sample_size = int(0.05*len(chunk))\n",
    "        chunk_sample = clean_chunk(chunk.sample(sample_size))\n",
    "        print(f'processed chunk {chunk_idx}')\n",
    "\n",
    "        path = path_to_out + f'-{chunk_idx}-reduced.pck'\n",
    "        path_sample = path_to_out_sample + f'-{chunk_idx}-sample.pck'\n",
    "        \n",
    "        chunk_cleaned.to_pickle(path, compression='bz2')\n",
    "        chunk_cleaned = []\n",
    "        chunk_sample.to_pickle(path_sample, compression='bz2')\n",
    "        chunk_sample = []\n",
    "\n",
    "    end_time = time.time()\n",
    "    print(f'Elapsed time: {(end_time-start_time)/60} minutes.')\n",
    "    \n",
    "    \n",
    "def process_data_year(path_to_quotebank, year, keys):\n",
    "    '''Process the quotebank data for the given year.'''\n",
    "    path_to_quotebank_data = path_to_quotebank + f'/quotes-{year}.json.bz2'\n",
    "    path_to_out = f'/content/drive/MyDrive/ADAgang/generated/quotes-{year}'\n",
    "    path_to_out_sample = f'/content/drive/MyDrive/ADAgang/generated/quotes-{year}'\n",
    "    process_data(path_to_quotebank_data, path_to_out, path_to_out_sample, keys)"
   ]
  },
  {
   "cell_type": "code",
   "execution_count": null,
   "id": "3eumB3IrGVZ4",
   "metadata": {
    "id": "3eumB3IrGVZ4"
   },
   "outputs": [],
   "source": [
    "def create_full_df(year):\n",
    "    reduced_files = glob.glob(\"/content/drive/MyDrive/ADAgang/generated/*-reduced.pck\")\n",
    "    df = pd.concat([pd.read_pickle(fp, compression='bz2') for fp in reduced_files])\n",
    "    path_to_reduced = f'/content/drive/MyDrive/ADAgang/generated/quotes-{year}-reduced.pkl'\n",
    "    df.to_pickle(path_to_reduced, compression='bz2')\n",
    "\n",
    "    sample_files = glob.glob(\"/content/drive/MyDrive/ADAgang/generated/*-sample.pck\")\n",
    "    df = pd.concat([pd.read_pickle(fp, compression='bz2') for fp in sample_files])\n",
    "    path_to_sample = f'/content/drive/MyDrive/ADAgang/generated/quotes-{year}-sample.pkl'\n",
    "    df.to_pickle(path_to_sample, compression='bz2')\n",
    "    df = []\n",
    "    for f in glob.glob(\"/content/drive/MyDrive/ADAgang/generated/*.pck\"):\n",
    "        os.remove(f)"
   ]
  },
  {
   "cell_type": "markdown",
   "id": "13bc1c81-f033-4b89-8cfb-0c55b0af1783",
   "metadata": {
    "id": "13bc1c81-f033-4b89-8cfb-0c55b0af1783"
   },
   "source": [
    "### Run the following cells only once"
   ]
  },
  {
   "cell_type": "code",
   "execution_count": null,
   "id": "b9bbf796-cea3-4346-abb7-ea23f533ed5e",
   "metadata": {
    "colab": {
     "base_uri": "https://localhost:8080/",
     "height": 37
    },
    "id": "b9bbf796-cea3-4346-abb7-ea23f533ed5e",
    "outputId": "bb895968-6df6-4f64-9bfa-b75e9275578c"
   },
   "outputs": [
    {
     "data": {
      "application/vnd.google.colaboratory.intrinsic+json": {
       "type": "string"
      },
      "text/plain": [
       "'process_data_year(PATH_TO_QUOTEBANK, 2020, KEYS)'"
      ]
     },
     "execution_count": 8,
     "metadata": {},
     "output_type": "execute_result"
    }
   ],
   "source": [
    "'''process_data_year(PATH_TO_QUOTEBANK, 2020, KEYS)''' # done"
   ]
  },
  {
   "cell_type": "code",
   "execution_count": null,
   "id": "Z7Ak44WwMCE5",
   "metadata": {
    "colab": {
     "base_uri": "https://localhost:8080/",
     "height": 37
    },
    "id": "Z7Ak44WwMCE5",
    "outputId": "cf5cc15d-db91-4118-b614-a65babf3b1d8"
   },
   "outputs": [
    {
     "data": {
      "application/vnd.google.colaboratory.intrinsic+json": {
       "type": "string"
      },
      "text/plain": [
       "'create_full_df(2020)'"
      ]
     },
     "execution_count": 9,
     "metadata": {},
     "output_type": "execute_result"
    }
   ],
   "source": [
    "'''create_full_df(2020)''' # done"
   ]
  },
  {
   "cell_type": "code",
   "execution_count": null,
   "id": "Hve9JV0MMX8C",
   "metadata": {
    "colab": {
     "base_uri": "https://localhost:8080/",
     "height": 37
    },
    "id": "Hve9JV0MMX8C",
    "outputId": "e3814a4e-f3be-4c1a-b482-5a01e6d32c5e"
   },
   "outputs": [
    {
     "data": {
      "application/vnd.google.colaboratory.intrinsic+json": {
       "type": "string"
      },
      "text/plain": [
       "'process_data_year(PATH_TO_QUOTEBANK, 2019, KEYS)'"
      ]
     },
     "execution_count": 10,
     "metadata": {},
     "output_type": "execute_result"
    }
   ],
   "source": [
    "'''process_data_year(PATH_TO_QUOTEBANK, 2019, KEYS)''' #done"
   ]
  },
  {
   "cell_type": "code",
   "execution_count": null,
   "id": "1Ft4nfH6MAXn",
   "metadata": {
    "colab": {
     "base_uri": "https://localhost:8080/",
     "height": 37
    },
    "id": "1Ft4nfH6MAXn",
    "outputId": "5c0c1251-5cda-4989-fe9d-b2d702c2a3bb"
   },
   "outputs": [
    {
     "data": {
      "application/vnd.google.colaboratory.intrinsic+json": {
       "type": "string"
      },
      "text/plain": [
       "'create_full_df(2019)'"
      ]
     },
     "execution_count": 11,
     "metadata": {},
     "output_type": "execute_result"
    }
   ],
   "source": [
    "'''create_full_df(2019)''' # done"
   ]
  },
  {
   "cell_type": "code",
   "execution_count": null,
   "id": "vWdVVcYRW9So",
   "metadata": {
    "colab": {
     "base_uri": "https://localhost:8080/",
     "height": 37
    },
    "id": "vWdVVcYRW9So",
    "outputId": "c317327b-126e-466b-ee72-d43ec9a6a7df"
   },
   "outputs": [
    {
     "data": {
      "application/vnd.google.colaboratory.intrinsic+json": {
       "type": "string"
      },
      "text/plain": [
       "'process_data_year(PATH_TO_QUOTEBANK, 2018, KEYS)'"
      ]
     },
     "execution_count": 12,
     "metadata": {},
     "output_type": "execute_result"
    }
   ],
   "source": [
    "'''process_data_year(PATH_TO_QUOTEBANK, 2018, KEYS)''' # done"
   ]
  },
  {
   "cell_type": "code",
   "execution_count": null,
   "id": "xysnYyxvV9iA",
   "metadata": {
    "colab": {
     "base_uri": "https://localhost:8080/",
     "height": 37
    },
    "id": "xysnYyxvV9iA",
    "outputId": "413f2cb3-a29f-4bb7-a880-a391c52398ec"
   },
   "outputs": [
    {
     "data": {
      "application/vnd.google.colaboratory.intrinsic+json": {
       "type": "string"
      },
      "text/plain": [
       "'create_full_df(2018)'"
      ]
     },
     "execution_count": 13,
     "metadata": {},
     "output_type": "execute_result"
    }
   ],
   "source": [
    "'''create_full_df(2018)''' #done"
   ]
  },
  {
   "cell_type": "code",
   "execution_count": null,
   "id": "eL-96dr7b-vv",
   "metadata": {
    "colab": {
     "base_uri": "https://localhost:8080/",
     "height": 37
    },
    "id": "eL-96dr7b-vv",
    "outputId": "c4b8462d-3533-4dc5-fb72-23aa23e94393"
   },
   "outputs": [
    {
     "data": {
      "application/vnd.google.colaboratory.intrinsic+json": {
       "type": "string"
      },
      "text/plain": [
       "'process_data_year(PATH_TO_QUOTEBANK, 2017, KEYS)'"
      ]
     },
     "execution_count": 14,
     "metadata": {},
     "output_type": "execute_result"
    }
   ],
   "source": [
    "'''process_data_year(PATH_TO_QUOTEBANK, 2017, KEYS)''' #done"
   ]
  },
  {
   "cell_type": "code",
   "execution_count": null,
   "id": "4Wj736hBV-Po",
   "metadata": {
    "colab": {
     "base_uri": "https://localhost:8080/",
     "height": 37
    },
    "id": "4Wj736hBV-Po",
    "outputId": "ed2144ab-4261-4031-9984-00ce1db82f34"
   },
   "outputs": [
    {
     "data": {
      "application/vnd.google.colaboratory.intrinsic+json": {
       "type": "string"
      },
      "text/plain": [
       "'create_full_df(2017)'"
      ]
     },
     "execution_count": 15,
     "metadata": {},
     "output_type": "execute_result"
    }
   ],
   "source": [
    "'''create_full_df(2017)''' #done"
   ]
  },
  {
   "cell_type": "code",
   "execution_count": null,
   "id": "b7c495cf-d179-4733-875e-a6c5bd899a2b",
   "metadata": {
    "colab": {
     "base_uri": "https://localhost:8080/",
     "height": 37
    },
    "id": "b7c495cf-d179-4733-875e-a6c5bd899a2b",
    "outputId": "1bc2d8aa-58ae-4b8e-ccf4-de4902d0a60b"
   },
   "outputs": [
    {
     "data": {
      "application/vnd.google.colaboratory.intrinsic+json": {
       "type": "string"
      },
      "text/plain": [
       "'process_data_year(PATH_TO_QUOTEBANK, 2016, KEYS)'"
      ]
     },
     "execution_count": 16,
     "metadata": {},
     "output_type": "execute_result"
    }
   ],
   "source": [
    "'''process_data_year(PATH_TO_QUOTEBANK, 2016, KEYS)''' #done"
   ]
  },
  {
   "cell_type": "code",
   "execution_count": null,
   "id": "30OhPfv0V-x4",
   "metadata": {
    "colab": {
     "base_uri": "https://localhost:8080/",
     "height": 37
    },
    "id": "30OhPfv0V-x4",
    "outputId": "8dac2759-5630-4a65-8179-cfadfc728ea7"
   },
   "outputs": [
    {
     "data": {
      "application/vnd.google.colaboratory.intrinsic+json": {
       "type": "string"
      },
      "text/plain": [
       "'create_full_df(2016)'"
      ]
     },
     "execution_count": 17,
     "metadata": {},
     "output_type": "execute_result"
    }
   ],
   "source": [
    "'''create_full_df(2016)''' #done"
   ]
  },
  {
   "cell_type": "code",
   "execution_count": null,
   "id": "4df53292-222b-4e9c-95da-40f990e51d1b",
   "metadata": {
    "colab": {
     "base_uri": "https://localhost:8080/",
     "height": 37
    },
    "id": "4df53292-222b-4e9c-95da-40f990e51d1b",
    "outputId": "dc902fc2-be72-4c21-89ab-3e8b57bf8817"
   },
   "outputs": [
    {
     "data": {
      "application/vnd.google.colaboratory.intrinsic+json": {
       "type": "string"
      },
      "text/plain": [
       "'process_data_year(PATH_TO_QUOTEBANK, 2015, KEYS)'"
      ]
     },
     "execution_count": 18,
     "metadata": {},
     "output_type": "execute_result"
    }
   ],
   "source": [
    "'''process_data_year(PATH_TO_QUOTEBANK, 2015, KEYS)''' #done"
   ]
  },
  {
   "cell_type": "code",
   "execution_count": null,
   "id": "OWyora7dV_Qb",
   "metadata": {
    "colab": {
     "base_uri": "https://localhost:8080/",
     "height": 37
    },
    "id": "OWyora7dV_Qb",
    "outputId": "b7dc9a3e-4d61-448e-af49-e0f228330e6c"
   },
   "outputs": [
    {
     "data": {
      "application/vnd.google.colaboratory.intrinsic+json": {
       "type": "string"
      },
      "text/plain": [
       "'create_full_df(2015)'"
      ]
     },
     "execution_count": 19,
     "metadata": {},
     "output_type": "execute_result"
    }
   ],
   "source": [
    "'''create_full_df(2015)''' #done"
   ]
  },
  {
   "cell_type": "markdown",
   "id": "4OKsjOI_wzcA",
   "metadata": {
    "id": "4OKsjOI_wzcA"
   },
   "source": [
    "# Prepare Dataframes for Merge"
   ]
  },
  {
   "cell_type": "markdown",
   "id": "sGb7VYOj3N9O",
   "metadata": {
    "id": "sGb7VYOj3N9O"
   },
   "source": [
    "Next, we want to merge the two dataframes so we can have the speaker information as well as the quote information in the same rows. Thus, we will merge on the most likely speaker for each quote. \n",
    "\n",
    "\n",
    "First, we will check the probability distribution of the most likely speaker for each quote to see if it is worth it to keep the rest of the possible speakers.\n"
   ]
  },
  {
   "cell_type": "code",
   "execution_count": null,
   "id": "6bdfed25-bb5e-438d-b7c7-d71749f068b2",
   "metadata": {
    "id": "6bdfed25-bb5e-438d-b7c7-d71749f068b2"
   },
   "outputs": [],
   "source": [
    "# here are some functions to help us do this:\n",
    "def extract_probas(probas):\n",
    "    return probas[0][1], probas[1][1]\n",
    "\n",
    "def extract_probs1(probas):\n",
    "    return probas[0][1]\n",
    "\n",
    "def extract_probs2(probas):\n",
    "    return probas[1][1]"
   ]
  },
  {
   "cell_type": "code",
   "execution_count": null,
   "id": "f6735802-fd4b-4d12-9c2e-e9d2085903c6",
   "metadata": {
    "colab": {
     "base_uri": "https://localhost:8080/"
    },
    "id": "f6735802-fd4b-4d12-9c2e-e9d2085903c6",
    "outputId": "68cc7b05-87ab-4e0a-b9d8-bd50d0ee45c7"
   },
   "outputs": [
    {
     "data": {
      "text/plain": [
       "['/content/drive/MyDrive/ADAgang/generated/speaker_data_clean.pkl']"
      ]
     },
     "execution_count": 21,
     "metadata": {},
     "output_type": "execute_result"
    }
   ],
   "source": [
    "generated_data_files = glob.glob('/content/drive/MyDrive/ADAgang/generated/*.pkl')\n",
    "generated_data_files"
   ]
  },
  {
   "cell_type": "code",
   "execution_count": null,
   "id": "SpljOfSbBNPz",
   "metadata": {
    "id": "SpljOfSbBNPz"
   },
   "outputs": [],
   "source": [
    "def get_summary_stats(file):\n",
    "\n",
    "    df = pd.read_pickle(file, compression='bz2')\n",
    "\n",
    "    # we separate first and second most likely speakers into columns:\n",
    "\n",
    "    df['prob1'] =  df.probas.apply(lambda x: extract_probs1(x))\n",
    "    df['prob2'] = df.probas.apply(lambda x: extract_probs2(x))\n",
    "\n",
    "    df = df.drop('probas',axis=1)\n",
    "\n",
    "    #let's get some initial summary statstics:\n",
    "    df['prob1'] = df.prob1.astype('float64')\n",
    "    df['prob2'] = df.prob2.astype('float64')\n",
    "    summary_statistics = df.describe().drop(['count','25%', '75%']).drop(['numOccurrences'],axis=1)\n",
    "\n",
    "    return summary_statistics"
   ]
  },
  {
   "cell_type": "code",
   "execution_count": null,
   "id": "3TpKZZkQEMc6",
   "metadata": {
    "id": "3TpKZZkQEMc6"
   },
   "outputs": [],
   "source": [
    "get_summary_stats('/content/drive/MyDrive/ADAgang/generated/intermediate/quotes-2019-reduced.pkl')"
   ]
  },
  {
   "cell_type": "code",
   "execution_count": null,
   "id": "wzGMF7G1OCkj",
   "metadata": {
    "id": "wzGMF7G1OCkj"
   },
   "outputs": [],
   "source": [
    "get_summary_stats('/content/drive/MyDrive/ADAgang/generated/intermediate/quotes-2018-reduced.pkl')"
   ]
  },
  {
   "cell_type": "markdown",
   "id": "vqf2muWFEmz-",
   "metadata": {
    "id": "vqf2muWFEmz-"
   },
   "source": [
    "We see that the median and mean are both quite high for the probabilities of the most likely speaker, whereas they are quite low for the second most likely speaker. Thus, we will only keep data where the most likely speaker probability is higher than 0.5, and discard all data on second and following most likely speakers."
   ]
  },
  {
   "cell_type": "code",
   "execution_count": null,
   "id": "0VIKQiXcFFXX",
   "metadata": {
    "id": "0VIKQiXcFFXX"
   },
   "outputs": [],
   "source": [
    "def remove_unlikely_speakers(path_to_file, path_to_out):\n",
    "  \n",
    "    df = pd.read_pickle(path_to_file, compression='bz2')\n",
    "    df['speaker_probability'] =  df.probas.apply(lambda x: extract_probs1(x))\n",
    "    df['speaker_probability'] = df.speaker_probability.astype('float64')\n",
    "    df = df.drop('probas', axis=1)\n",
    "    df = df[df.speaker_probability > 0.5]\n",
    "    df['qids'] =  df.qids.apply(lambda x: x[0])\n",
    "    df.to_pickle(path_to_out, compression='bz2')\n",
    "\n",
    "def clean_data_year(year):\n",
    "  \n",
    "    path_to_reduced = f'/content/drive/MyDrive/ADAgang/generated/quotes-{year}-reduced.pkl'\n",
    "    path_to_clean = f'/content/drive/MyDrive/ADAgang/generated/quotes-{year}-clean.pkl'\n",
    "    remove_unlikely_speakers(path_to_reduced, path_to_clean)\n",
    "\n",
    "    path_to_reduced_sample = f'/content/drive/MyDrive/ADAgang/generated/quotes-{year}-reduced.pkl'\n",
    "    path_to_clean_sample = f'/content/drive/MyDrive/ADAgang/generated/quotes-{year}-clean.pkl'\n",
    "    remove_unlikely_speakers(path_to_reduced_sample, path_to_clean_sample)"
   ]
  },
  {
   "cell_type": "markdown",
   "id": "PGN2hkuNnXAI",
   "metadata": {
    "id": "PGN2hkuNnXAI"
   },
   "source": [
    "### Run the following cells only once."
   ]
  },
  {
   "cell_type": "code",
   "execution_count": null,
   "id": "v-ICrsw2nBls",
   "metadata": {
    "colab": {
     "base_uri": "https://localhost:8080/",
     "height": 37
    },
    "id": "v-ICrsw2nBls",
    "outputId": "5f38d7b0-6c1c-4eff-db73-7abddf74393b"
   },
   "outputs": [
    {
     "data": {
      "application/vnd.google.colaboratory.intrinsic+json": {
       "type": "string"
      },
      "text/plain": [
       "'clean_data_year(2020)'"
      ]
     },
     "execution_count": 26,
     "metadata": {},
     "output_type": "execute_result"
    }
   ],
   "source": [
    "'''clean_data_year(2020)''' #done"
   ]
  },
  {
   "cell_type": "code",
   "execution_count": null,
   "id": "Ozvlb9XqnLU9",
   "metadata": {
    "colab": {
     "base_uri": "https://localhost:8080/",
     "height": 37
    },
    "id": "Ozvlb9XqnLU9",
    "outputId": "20f9edec-e2eb-4b20-d1e6-b3674bd68164"
   },
   "outputs": [
    {
     "data": {
      "application/vnd.google.colaboratory.intrinsic+json": {
       "type": "string"
      },
      "text/plain": [
       "'clean_data_year(2019)'"
      ]
     },
     "execution_count": 27,
     "metadata": {},
     "output_type": "execute_result"
    }
   ],
   "source": [
    "'''clean_data_year(2019)''' #done"
   ]
  },
  {
   "cell_type": "code",
   "execution_count": null,
   "id": "KcbNnbjtnLdt",
   "metadata": {
    "colab": {
     "base_uri": "https://localhost:8080/",
     "height": 37
    },
    "id": "KcbNnbjtnLdt",
    "outputId": "ab19e9d7-f445-4413-d86b-e86cabcb1aec"
   },
   "outputs": [
    {
     "data": {
      "application/vnd.google.colaboratory.intrinsic+json": {
       "type": "string"
      },
      "text/plain": [
       "'clean_data_year(2018)'"
      ]
     },
     "execution_count": 28,
     "metadata": {},
     "output_type": "execute_result"
    }
   ],
   "source": [
    "'''clean_data_year(2018)''' #done"
   ]
  },
  {
   "cell_type": "code",
   "execution_count": null,
   "id": "1Y4V7SIjnLl1",
   "metadata": {
    "colab": {
     "base_uri": "https://localhost:8080/",
     "height": 37
    },
    "id": "1Y4V7SIjnLl1",
    "outputId": "10ef2868-92a1-4fb9-a540-ecea0c22320d"
   },
   "outputs": [
    {
     "data": {
      "application/vnd.google.colaboratory.intrinsic+json": {
       "type": "string"
      },
      "text/plain": [
       "'clean_data_year(2017)'"
      ]
     },
     "execution_count": 29,
     "metadata": {},
     "output_type": "execute_result"
    }
   ],
   "source": [
    "'''clean_data_year(2017)''' #done"
   ]
  },
  {
   "cell_type": "code",
   "execution_count": null,
   "id": "OLn3Zdq_nQHs",
   "metadata": {
    "colab": {
     "base_uri": "https://localhost:8080/",
     "height": 37
    },
    "id": "OLn3Zdq_nQHs",
    "outputId": "e6f9fe83-3182-4e07-8ecf-8fe1d1a3d735"
   },
   "outputs": [
    {
     "data": {
      "application/vnd.google.colaboratory.intrinsic+json": {
       "type": "string"
      },
      "text/plain": [
       "'clean_data_year(2016)'"
      ]
     },
     "execution_count": 30,
     "metadata": {},
     "output_type": "execute_result"
    }
   ],
   "source": [
    "'''clean_data_year(2016)''' #done"
   ]
  },
  {
   "cell_type": "code",
   "execution_count": null,
   "id": "HRxLDR9ZnRD7",
   "metadata": {
    "colab": {
     "base_uri": "https://localhost:8080/",
     "height": 37
    },
    "id": "HRxLDR9ZnRD7",
    "outputId": "ba663724-9f99-429f-998f-35d5e2fee7fa"
   },
   "outputs": [
    {
     "data": {
      "application/vnd.google.colaboratory.intrinsic+json": {
       "type": "string"
      },
      "text/plain": [
       "'clean_data_year(2015)'"
      ]
     },
     "execution_count": 31,
     "metadata": {},
     "output_type": "execute_result"
    }
   ],
   "source": [
    "'''clean_data_year(2015)''' #done"
   ]
  },
  {
   "cell_type": "markdown",
   "id": "46a12b4d-2895-4ef4-9d41-10844590afd0",
   "metadata": {
    "id": "46a12b4d-2895-4ef4-9d41-10844590afd0"
   },
   "source": [
    "# Speaker Data Wrangling"
   ]
  },
  {
   "cell_type": "markdown",
   "id": "ffed4fd6-adcb-48bc-8e49-a08d08634c8e",
   "metadata": {
    "id": "ffed4fd6-adcb-48bc-8e49-a08d08634c8e"
   },
   "source": [
    "Loadnig the data and changing the index of the speaker dataframe to the 'id' column and making sure it is unique."
   ]
  },
  {
   "cell_type": "code",
   "execution_count": null,
   "id": "3987058e-b1d6-4ce6-91ae-a00e6982cb56",
   "metadata": {
    "colab": {
     "base_uri": "https://localhost:8080/",
     "height": 71
    },
    "id": "3987058e-b1d6-4ce6-91ae-a00e6982cb56",
    "outputId": "dc05434f-e6ab-4a7c-b113-5a72c9c708bb"
   },
   "outputs": [
    {
     "data": {
      "application/vnd.google.colaboratory.intrinsic+json": {
       "type": "string"
      },
      "text/plain": [
       "\"\\nspeaker_data_original = pd.read_parquet(PATH_TO_SPEAKER, engine = 'pyarrow')\\nlabel_descriptions = pd.read_csv(PATH_TO_LABELS, index_col = 'QID')\\nspeaker_data = speaker_data_original.copy()\\nspeaker_data = speaker_data.set_index('id')\\n\""
      ]
     },
     "execution_count": 32,
     "metadata": {},
     "output_type": "execute_result"
    }
   ],
   "source": [
    "'''\n",
    "speaker_data_original = pd.read_parquet(PATH_TO_SPEAKER, engine = 'pyarrow')\n",
    "label_descriptions = pd.read_csv(PATH_TO_LABELS, index_col = 'QID')\n",
    "speaker_data = speaker_data_original.copy()\n",
    "speaker_data = speaker_data.set_index('id')\n",
    "'''"
   ]
  },
  {
   "cell_type": "markdown",
   "id": "5c02480f-d8e3-4bde-bd9f-0038b0f939c9",
   "metadata": {
    "id": "5c02480f-d8e3-4bde-bd9f-0038b0f939c9"
   },
   "source": [
    "For our project we do not foresee needing the aliases, lastrevid, type, US_congress_bio_ID, or candidacy columns so we will remove those. Also here we are changing the date_of_birth column to datetime format."
   ]
  },
  {
   "cell_type": "code",
   "execution_count": null,
   "id": "140eeeec-8e08-4700-90b8-e9146ca883e9",
   "metadata": {
    "colab": {
     "base_uri": "https://localhost:8080/",
     "height": 88
    },
    "id": "140eeeec-8e08-4700-90b8-e9146ca883e9",
    "outputId": "1ee63d35-33c4-41bc-cecf-9942ad2d9cc8"
   },
   "outputs": [
    {
     "data": {
      "application/vnd.google.colaboratory.intrinsic+json": {
       "type": "string"
      },
      "text/plain": [
       "\"\\nspeaker_data = speaker_data.drop(['aliases', 'lastrevid', 'type', 'US_congress_bio_ID', 'candidacy'],axis = 1)\\nspeaker_data['date_of_birth'] = speaker_data.date_of_birth.apply(lambda x: x[0][1:11] if x is not None else None)\\nspeaker_data['date_of_birth'] = pd.to_datetime(speaker_data.date_of_birth, errors = 'coerce')\\n\""
      ]
     },
     "execution_count": 33,
     "metadata": {},
     "output_type": "execute_result"
    }
   ],
   "source": [
    "'''\n",
    "speaker_data = speaker_data.drop(['aliases', 'lastrevid', 'type', 'US_congress_bio_ID', 'candidacy'],axis = 1)\n",
    "speaker_data['date_of_birth'] = speaker_data.date_of_birth.apply(lambda x: x[0][1:11] if x is not None else None)\n",
    "speaker_data['date_of_birth'] = pd.to_datetime(speaker_data.date_of_birth, errors = 'coerce')\n",
    "'''"
   ]
  },
  {
   "cell_type": "markdown",
   "id": "951d4290-732d-4750-8832-ef94dae4baa5",
   "metadata": {
    "id": "951d4290-732d-4750-8832-ef94dae4baa5"
   },
   "source": [
    "The rest of the columns will be useful for our analysis. However, they are not very interpretable. Thus, we will go through each column and replace ids with meaningful labels we will need."
   ]
  },
  {
   "cell_type": "markdown",
   "id": "e76544cb-891a-480a-a2fd-9fc50cc3c369",
   "metadata": {
    "id": "e76544cb-891a-480a-a2fd-9fc50cc3c369"
   },
   "source": [
    "First, we will work with the gender column since we expect fewer unique values here than in other columns. Let's see what possible labels we can get by searching 'gender' in the label decriptions dataframe."
   ]
  },
  {
   "cell_type": "code",
   "execution_count": null,
   "id": "819c15e1-327a-4c67-8ab5-b224a5bed974",
   "metadata": {
    "colab": {
     "base_uri": "https://localhost:8080/",
     "height": 37
    },
    "id": "819c15e1-327a-4c67-8ab5-b224a5bed974",
    "outputId": "3c9fc56e-57fa-4d8d-f379-18f0f75d39f5"
   },
   "outputs": [
    {
     "data": {
      "application/vnd.google.colaboratory.intrinsic+json": {
       "type": "string"
      },
      "text/plain": [
       "\"label_descriptions[label_descriptions.Description.str.contains('gender', na=False)]\""
      ]
     },
     "execution_count": 34,
     "metadata": {},
     "output_type": "execute_result"
    }
   ],
   "source": [
    "'''label_descriptions[label_descriptions.Description.str.contains('gender', na=False)]'''"
   ]
  },
  {
   "cell_type": "markdown",
   "id": "b24543dc-87a3-4e36-83c4-b56ef66da2e1",
   "metadata": {
    "id": "b24543dc-87a3-4e36-83c4-b56ef66da2e1"
   },
   "source": [
    "Although we expect most of the genders of speakers to be male/female, we will keep five labels for gender: male, female, trans male, trans female, and other. This way, we avoid erasure of gender diversity  while still keeping simple labels. However, we will only allow one label per speaker."
   ]
  },
  {
   "cell_type": "code",
   "execution_count": null,
   "id": "913b6a3e-b6a5-4043-895d-5d87dd6d8b43",
   "metadata": {
    "id": "913b6a3e-b6a5-4043-895d-5d87dd6d8b43"
   },
   "outputs": [],
   "source": [
    "def determine_gender(gender_id):\n",
    "    \n",
    "    # determined from 'label_descriptions[label_descriptions.QID.isin(unique_genders)]'\n",
    "    male, female, trans_male, trans_female = ['Q6581097'], ['Q6581072', 'Q15145779'], ['Q2449503'], ['Q1052281']\n",
    "\n",
    "    if gender_id is None:\n",
    "        gender = 'None'\n",
    "    elif gender_id[0] in trans_female:\n",
    "        gender = 'trans female'\n",
    "    elif gender_id[0] in trans_male:\n",
    "        gender = 'trans male'\n",
    "    elif gender_id[0] in female:\n",
    "        gender = 'female'\n",
    "    elif gender_id[0] in male:\n",
    "        gender = 'male'\n",
    "    else:\n",
    "        gender = 'other'\n",
    "    \n",
    "    return gender\n"
   ]
  },
  {
   "cell_type": "markdown",
   "id": "dce54336-f08c-41aa-addc-5e593c28d046",
   "metadata": {
    "id": "dce54336-f08c-41aa-addc-5e593c28d046"
   },
   "source": [
    "Next, we will go through the 'party' column. Since our analysis is on Black Lives Matter, an movement in the United States, only American political parties are relevant. Thus, we will label each speaker with a party of \"Republican,\" \"Democrat,\" or \"Other.\""
   ]
  },
  {
   "cell_type": "code",
   "execution_count": null,
   "id": "26818d86-9b62-446b-b956-0a0ee280b4fc",
   "metadata": {
    "colab": {
     "base_uri": "https://localhost:8080/",
     "height": 156
    },
    "id": "26818d86-9b62-446b-b956-0a0ee280b4fc",
    "outputId": "21f65b87-0e77-4545-cfa2-509b987d5665"
   },
   "outputs": [
    {
     "data": {
      "application/vnd.google.colaboratory.intrinsic+json": {
       "type": "string"
      },
      "text/plain": [
       "\"\\n# getting all political parties from label_descriptions\\nparties = label_descriptions[label_descriptions.Description.str.contains('political party', na=False)]\\n\\n# of these, getting just parties that are American\\nparties_us = parties[parties.Description.str.contains('|'.join(['U.S', 'United States']), na=False)]\\n\\n# we really only want the republican or democrat labels\\nparties_us[parties_us.Label.str.contains('|'.join(['Republican', 'Democrat']))]\\n\\n# separate into groups\\ndemocrats = parties_us[parties_us.Label.str.contains('Democrat')]\\nrepublicans = parties_us[parties_us.Label.str.contains('Republican')]\\n\""
      ]
     },
     "execution_count": 36,
     "metadata": {},
     "output_type": "execute_result"
    }
   ],
   "source": [
    "'''\n",
    "# getting all political parties from label_descriptions\n",
    "parties = label_descriptions[label_descriptions.Description.str.contains('political party', na=False)]\n",
    "\n",
    "# of these, getting just parties that are American\n",
    "parties_us = parties[parties.Description.str.contains('|'.join(['U.S', 'United States']), na=False)]\n",
    "\n",
    "# we really only want the republican or democrat labels\n",
    "parties_us[parties_us.Label.str.contains('|'.join(['Republican', 'Democrat']))]\n",
    "\n",
    "# separate into groups\n",
    "democrats = parties_us[parties_us.Label.str.contains('Democrat')]\n",
    "republicans = parties_us[parties_us.Label.str.contains('Republican')]\n",
    "'''"
   ]
  },
  {
   "cell_type": "markdown",
   "id": "mzjqJfk39-py",
   "metadata": {
    "id": "mzjqJfk39-py"
   },
   "source": [
    "Here we manually remove the unrelated parties."
   ]
  },
  {
   "cell_type": "code",
   "execution_count": null,
   "id": "1c444db5-1d6a-46e6-b08d-ef1e6dbc3624",
   "metadata": {
    "colab": {
     "base_uri": "https://localhost:8080/",
     "height": 37
    },
    "id": "1c444db5-1d6a-46e6-b08d-ef1e6dbc3624",
    "outputId": "b91b5759-6de8-41b2-8a2b-7984802b7d8e"
   },
   "outputs": [
    {
     "data": {
      "application/vnd.google.colaboratory.intrinsic+json": {
       "type": "string"
      },
      "text/plain": [
       "'democrats'"
      ]
     },
     "execution_count": 37,
     "metadata": {},
     "output_type": "execute_result"
    }
   ],
   "source": [
    "'''democrats'''"
   ]
  },
  {
   "cell_type": "code",
   "execution_count": null,
   "id": "b782a572-ef42-4cc1-8129-dfd3d72cf9e0",
   "metadata": {
    "colab": {
     "base_uri": "https://localhost:8080/",
     "height": 88
    },
    "id": "b782a572-ef42-4cc1-8129-dfd3d72cf9e0",
    "outputId": "74e7cf8c-2543-4002-cc90-a2934ad8aac8"
   },
   "outputs": [
    {
     "data": {
      "application/vnd.google.colaboratory.intrinsic+json": {
       "type": "string"
      },
      "text/plain": [
       "\"\\nremove = ['Social Democratic Federation', \\n          'Social Democratic League of America',\\n          'Liberal Democratic Party of the Soviet Union',\\n          'Minnesota Democratic–Farmer–Labor Party']\\n\\ndemocrats = democrats[~(democrats.Label.isin(remove))]\\ndemocrat_ids = democrats.index\\ndemocrat_ids\\n\""
      ]
     },
     "execution_count": 38,
     "metadata": {},
     "output_type": "execute_result"
    }
   ],
   "source": [
    "'''\n",
    "remove = ['Social Democratic Federation', \n",
    "          'Social Democratic League of America',\n",
    "          'Liberal Democratic Party of the Soviet Union',\n",
    "          'Minnesota Democratic–Farmer–Labor Party']\n",
    "\n",
    "democrats = democrats[~(democrats.Label.isin(remove))]\n",
    "democrat_ids = democrats.index\n",
    "democrat_ids\n",
    "'''"
   ]
  },
  {
   "cell_type": "code",
   "execution_count": null,
   "id": "1ec1dc88-e34b-45c5-a8fa-abc22d1a1afa",
   "metadata": {
    "colab": {
     "base_uri": "https://localhost:8080/",
     "height": 37
    },
    "id": "1ec1dc88-e34b-45c5-a8fa-abc22d1a1afa",
    "outputId": "dc0b485c-daf2-4e23-a8eb-34252e7e2686"
   },
   "outputs": [
    {
     "data": {
      "application/vnd.google.colaboratory.intrinsic+json": {
       "type": "string"
      },
      "text/plain": [
       "'republicans'"
      ]
     },
     "execution_count": 39,
     "metadata": {},
     "output_type": "execute_result"
    }
   ],
   "source": [
    "'''republicans'''"
   ]
  },
  {
   "cell_type": "code",
   "execution_count": null,
   "id": "e74432d8-af5b-4b34-8dc6-00f32f64a81e",
   "metadata": {
    "colab": {
     "base_uri": "https://localhost:8080/",
     "height": 54
    },
    "id": "e74432d8-af5b-4b34-8dc6-00f32f64a81e",
    "outputId": "b55d0f3f-459f-439a-94c3-e70398131bf0"
   },
   "outputs": [
    {
     "data": {
      "application/vnd.google.colaboratory.intrinsic+json": {
       "type": "string"
      },
      "text/plain": [
       "\"\\nrepublicans = republicans[~(republicans.Label.isin(['Silver Republican Party']))]\\nrepublican_ids = republicans.index\\nrepublican_ids\\n\""
      ]
     },
     "execution_count": 40,
     "metadata": {},
     "output_type": "execute_result"
    }
   ],
   "source": [
    "'''\n",
    "republicans = republicans[~(republicans.Label.isin(['Silver Republican Party']))]\n",
    "republican_ids = republicans.index\n",
    "republican_ids\n",
    "'''"
   ]
  },
  {
   "cell_type": "code",
   "execution_count": null,
   "id": "dbe5a27d-d13b-4147-b758-8b661c8d66e6",
   "metadata": {
    "id": "dbe5a27d-d13b-4147-b758-8b661c8d66e6"
   },
   "outputs": [],
   "source": [
    "def determine_party(party_id):\n",
    "    \n",
    "    democrats = ['Q5255714', 'Q10594775', 'Q16988710', 'Q29552', 'Q4708523', 'Q6781300','Q5255727', 'Q7707623']\n",
    "    republicans = ['Q7314666', 'Q29468']\n",
    "    \n",
    "    if party_id is None:\n",
    "        party = None\n",
    "    else:\n",
    "        if party_id[0] in republicans:\n",
    "            party = 'Republican'\n",
    "        elif party_id[0] in democrats:\n",
    "            party = 'Democrat'\n",
    "        else:\n",
    "            party = 'Other'\n",
    "            \n",
    "    return party\n",
    "        "
   ]
  },
  {
   "cell_type": "code",
   "execution_count": null,
   "id": "ef78833c-7e89-43e2-865d-fa826a3998ba",
   "metadata": {
    "colab": {
     "base_uri": "https://localhost:8080/",
     "height": 54
    },
    "id": "ef78833c-7e89-43e2-865d-fa826a3998ba",
    "outputId": "5243a64e-6657-4871-feed-78b67498f70b"
   },
   "outputs": [
    {
     "data": {
      "application/vnd.google.colaboratory.intrinsic+json": {
       "type": "string"
      },
      "text/plain": [
       "\"\\nspeaker_data['gender'] = speaker_data.gender.apply(lambda x: determine_gender(x))\\nspeaker_data['party'] = speaker_data.party.apply(lambda x: determine_party(x))\\n\""
      ]
     },
     "execution_count": 42,
     "metadata": {},
     "output_type": "execute_result"
    }
   ],
   "source": [
    "'''\n",
    "speaker_data['gender'] = speaker_data.gender.apply(lambda x: determine_gender(x))\n",
    "speaker_data['party'] = speaker_data.party.apply(lambda x: determine_party(x))\n",
    "'''"
   ]
  },
  {
   "cell_type": "code",
   "execution_count": null,
   "id": "_76J0gurUWsf",
   "metadata": {
    "id": "_76J0gurUWsf"
   },
   "outputs": [],
   "source": [
    "label_descriptions = []"
   ]
  },
  {
   "cell_type": "markdown",
   "id": "Af4q5T2v_bR_",
   "metadata": {
    "id": "Af4q5T2v_bR_"
   },
   "source": [
    "Now we will merge the dataframes to have all our quote information and the speaker information together."
   ]
  },
  {
   "cell_type": "code",
   "execution_count": null,
   "id": "_wxkXNC1jN-U",
   "metadata": {
    "id": "_wxkXNC1jN-U"
   },
   "outputs": [],
   "source": [
    "def merge_dataframes(df, speaker_data, file_path):\n",
    "    merged_df = pd.merge(df, speaker_data, left_on='qids', right_index=True, how = 'left')\n",
    "    merged_df.to_pickle(file_path, compression='bz2')"
   ]
  },
  {
   "cell_type": "code",
   "execution_count": null,
   "id": "cUL4DYLnR4Dp",
   "metadata": {
    "id": "cUL4DYLnR4Dp"
   },
   "outputs": [],
   "source": [
    "label_descriptions = []"
   ]
  },
  {
   "cell_type": "code",
   "execution_count": null,
   "id": "IusWwb5ExYyp",
   "metadata": {
    "colab": {
     "base_uri": "https://localhost:8080/",
     "height": 71
    },
    "id": "IusWwb5ExYyp",
    "outputId": "8951091f-78f4-48b6-b9f1-674046a3017c"
   },
   "outputs": [
    {
     "data": {
      "application/vnd.google.colaboratory.intrinsic+json": {
       "type": "string"
      },
      "text/plain": [
       "\"\\ndf = pd.read_pickle('/content/drive/MyDrive/ADAgang/generated/quotes-2020-clean.pkl', compression = 'bz2')\\nmerged_path_to_out = '/content/drive/MyDrive/ADAgang/generated/2020-data-merged.pkl.bz2'\\nmerge_dataframes(df, speaker_data, merged_path_to_out)\\n\""
      ]
     },
     "execution_count": 46,
     "metadata": {},
     "output_type": "execute_result"
    }
   ],
   "source": [
    "'''\n",
    "df = pd.read_pickle('/content/drive/MyDrive/ADAgang/generated/quotes-2020-clean.pkl', compression = 'bz2')\n",
    "merged_path_to_out = '/content/drive/MyDrive/ADAgang/generated/2020-data-merged.pkl.bz2'\n",
    "merge_dataframes(df, speaker_data, merged_path_to_out)\n",
    "'''\n",
    "#done"
   ]
  },
  {
   "cell_type": "code",
   "execution_count": null,
   "id": "ka-ckOPjPFLk",
   "metadata": {
    "colab": {
     "base_uri": "https://localhost:8080/",
     "height": 71
    },
    "id": "ka-ckOPjPFLk",
    "outputId": "b033ffa7-fdf8-4902-8dc9-72e93515c377"
   },
   "outputs": [
    {
     "data": {
      "application/vnd.google.colaboratory.intrinsic+json": {
       "type": "string"
      },
      "text/plain": [
       "\"\\ndf = pd.read_pickle('/content/drive/MyDrive/ADAgang/generated/quotes-2019-clean.pkl', compression = 'bz2')\\nmerged_path_to_out = '/content/drive/MyDrive/ADAgang/generated/2019-data-merged.pkl.bz2'\\nmerge_dataframes(df, speaker_data, merged_path_to_out)\\n\""
      ]
     },
     "execution_count": 47,
     "metadata": {},
     "output_type": "execute_result"
    }
   ],
   "source": [
    "'''\n",
    "df = pd.read_pickle('/content/drive/MyDrive/ADAgang/generated/quotes-2019-clean.pkl', compression = 'bz2')\n",
    "merged_path_to_out = '/content/drive/MyDrive/ADAgang/generated/2019-data-merged.pkl.bz2'\n",
    "merge_dataframes(df, speaker_data, merged_path_to_out)\n",
    "''' \n",
    "#done"
   ]
  },
  {
   "cell_type": "code",
   "execution_count": null,
   "id": "hrQHxGDhSO2I",
   "metadata": {
    "colab": {
     "base_uri": "https://localhost:8080/",
     "height": 71
    },
    "id": "hrQHxGDhSO2I",
    "outputId": "eda68389-b500-42e7-9960-6571b6188753"
   },
   "outputs": [
    {
     "data": {
      "application/vnd.google.colaboratory.intrinsic+json": {
       "type": "string"
      },
      "text/plain": [
       "\"\\ndf = pd.read_pickle('/content/drive/MyDrive/ADAgang/generated/quotes-2018-clean.pkl', compression = 'bz2')\\nmerged_path_to_out = '/content/drive/MyDrive/ADAgang/generated/2018-data-merged.pkl.bz2'\\nmerge_dataframes(df, speaker_data, merged_path_to_out)\\n\""
      ]
     },
     "execution_count": 48,
     "metadata": {},
     "output_type": "execute_result"
    }
   ],
   "source": [
    "'''\n",
    "df = pd.read_pickle('/content/drive/MyDrive/ADAgang/generated/quotes-2018-clean.pkl', compression = 'bz2')\n",
    "merged_path_to_out = '/content/drive/MyDrive/ADAgang/generated/2018-data-merged.pkl.bz2'\n",
    "merge_dataframes(df, speaker_data, merged_path_to_out)\n",
    "'''\n",
    "#done"
   ]
  },
  {
   "cell_type": "code",
   "execution_count": null,
   "id": "rwWvjvkzSYfN",
   "metadata": {
    "colab": {
     "base_uri": "https://localhost:8080/",
     "height": 71
    },
    "id": "rwWvjvkzSYfN",
    "outputId": "345d9575-5656-4bcd-c98c-38592942a788"
   },
   "outputs": [
    {
     "data": {
      "application/vnd.google.colaboratory.intrinsic+json": {
       "type": "string"
      },
      "text/plain": [
       "\"\\ndf = pd.read_pickle('/content/drive/MyDrive/ADAgang/generated/quotes-2017-clean.pkl', compression = 'bz2')\\nmerged_path_to_out = '/content/drive/MyDrive/ADAgang/generated/2017-data-merged.pkl.bz2'\\nmerge_dataframes(df, speaker_data, merged_path_to_out)\\n\""
      ]
     },
     "execution_count": 49,
     "metadata": {},
     "output_type": "execute_result"
    }
   ],
   "source": [
    "'''\n",
    "df = pd.read_pickle('/content/drive/MyDrive/ADAgang/generated/quotes-2017-clean.pkl', compression = 'bz2')\n",
    "merged_path_to_out = '/content/drive/MyDrive/ADAgang/generated/2017-data-merged.pkl.bz2'\n",
    "merge_dataframes(df, speaker_data, merged_path_to_out)\n",
    "'''\n",
    "#done"
   ]
  },
  {
   "cell_type": "code",
   "execution_count": null,
   "id": "4OBN0Sz3xWA_",
   "metadata": {
    "colab": {
     "base_uri": "https://localhost:8080/",
     "height": 71
    },
    "id": "4OBN0Sz3xWA_",
    "outputId": "10f43ea4-e6d5-4660-b734-c017228ebe14"
   },
   "outputs": [
    {
     "data": {
      "application/vnd.google.colaboratory.intrinsic+json": {
       "type": "string"
      },
      "text/plain": [
       "\"\\ndf = pd.read_pickle('/content/drive/MyDrive/ADAgang/generated/quotes-2016-clean.pkl', compression = 'bz2')\\nmerged_path_to_out = '/content/drive/MyDrive/ADAgang/generated/2016-data-merged.pkl.bz2'\\nmerge_dataframes(df, speaker_data, merged_path_to_out)\\n\""
      ]
     },
     "execution_count": 50,
     "metadata": {},
     "output_type": "execute_result"
    }
   ],
   "source": [
    "'''\n",
    "df = pd.read_pickle('/content/drive/MyDrive/ADAgang/generated/quotes-2016-clean.pkl', compression = 'bz2')\n",
    "merged_path_to_out = '/content/drive/MyDrive/ADAgang/generated/2016-data-merged.pkl.bz2'\n",
    "merge_dataframes(df, speaker_data, merged_path_to_out)\n",
    "'''\n",
    "#done"
   ]
  },
  {
   "cell_type": "code",
   "execution_count": null,
   "id": "-zOtvKCSxX3_",
   "metadata": {
    "colab": {
     "base_uri": "https://localhost:8080/",
     "height": 71
    },
    "id": "-zOtvKCSxX3_",
    "outputId": "aa84d122-1971-4f85-a97b-7d7a3c9154e9"
   },
   "outputs": [
    {
     "data": {
      "application/vnd.google.colaboratory.intrinsic+json": {
       "type": "string"
      },
      "text/plain": [
       "\"\\ndf = pd.read_pickle('/content/drive/MyDrive/ADAgang/generated/quotes-2015-clean.pkl', compression = 'bz2')\\nmerged_path_to_out = '/content/drive/MyDrive/ADAgang/generated/2015-data-merged.pkl.bz2'\\nmerge_dataframes(df, speaker_data, merged_path_to_out)\\n\""
      ]
     },
     "execution_count": 51,
     "metadata": {},
     "output_type": "execute_result"
    }
   ],
   "source": [
    "'''\n",
    "df = pd.read_pickle('/content/drive/MyDrive/ADAgang/generated/quotes-2015-clean.pkl', compression = 'bz2')\n",
    "merged_path_to_out = '/content/drive/MyDrive/ADAgang/generated/2015-data-merged.pkl.bz2'\n",
    "merge_dataframes(df, speaker_data, merged_path_to_out)\n",
    "'''\n",
    "#done"
   ]
  },
  {
   "cell_type": "code",
   "execution_count": null,
   "id": "mgqis1Ug3QPY",
   "metadata": {
    "id": "mgqis1Ug3QPY"
   },
   "outputs": [],
   "source": [
    "\n",
    "path = '/content/drive/MyDrive/ADAgang/generated/'\n",
    "\n",
    "df_2015 = pd.read_pickle(path + '2015-data-merged.pkl.bz2', compression='bz2')\n",
    "df_2016 = pd.read_pickle(path + '2016-data-merged.pkl.bz2', compression='bz2')\n",
    "df_2017 = pd.read_pickle(path + '2017-data-merged.pkl.bz2', compression='bz2')\n",
    "df_2018 = pd.read_pickle(path + '2018-data-merged.pkl.bz2', compression='bz2')\n",
    "df_2019 = pd.read_pickle(path + '2019-data-merged.pkl.bz2', compression='bz2')\n",
    "df_2020 = pd.read_pickle(path + '2020-data-merged.pkl.bz2', compression='bz2')\n",
    "df_total = pd.concat([df_2015,df_2016,df_2017,df_2018,df_2019,df_2020])\n"
   ]
  },
  {
   "cell_type": "markdown",
   "id": "agqhaJhB_m8I",
   "metadata": {
    "id": "agqhaJhB_m8I"
   },
   "source": [
    "Now we just need to make the remaining labels interpretable on the final dataset we will be using going forward."
   ]
  },
  {
   "cell_type": "code",
   "execution_count": null,
   "id": "Kk7AXVZB3bkP",
   "metadata": {
    "id": "Kk7AXVZB3bkP"
   },
   "outputs": [],
   "source": [
    "label_descriptions = pd.read_csv(PATH_TO_LABELS, index_col = 'QID')"
   ]
  },
  {
   "cell_type": "code",
   "execution_count": null,
   "id": "qt32_dtbWRvA",
   "metadata": {
    "id": "qt32_dtbWRvA"
   },
   "outputs": [],
   "source": [
    "def get_label(x):\n",
    "    labels = []\n",
    "    if len(x) == 1:\n",
    "        try:\n",
    "            labels = label_descriptions.loc[x[0]].Label\n",
    "        except KeyError:\n",
    "    labels = None\n",
    "    else:\n",
    "        for i in x:\n",
    "            try:\n",
    "                label = label_descriptions.loc[i].Label\n",
    "                labels.append(label)\n",
    "            except KeyError:\n",
    "                pass\n",
    "    return labels"
   ]
  },
  {
   "cell_type": "code",
   "execution_count": null,
   "id": "MXEeY6HJpWE8",
   "metadata": {
    "id": "MXEeY6HJpWE8"
   },
   "outputs": [],
   "source": [
    "df_total.drop('label', axis = 1)\n",
    "df_total['date'] = df_total.date.astype('datetime64').dt.date\n",
    "df_total = df_total.where(pd.notnull(df_total), None)\n",
    "df_total['nationality'] = df_total.nationality.apply(lambda x: get_label(x) if x is not None else None)\n",
    "df_total['ethnic_group'] = df_total.ethnic_group.apply(lambda x: get_label(x) if x is not None else None)\n",
    "df_total['occupation'] = df_total.occupation.apply(lambda x: get_label(x) if x is not None else None)\n",
    "df_total['religion'] = df_total.religion.apply(lambda x: get_label(x) if x is not None else None)\n",
    "df_total['academic_degree'] = df_total.academic_degree.apply(lambda x: get_label(x) if x is not None else None)\n"
   ]
  },
  {
   "cell_type": "code",
   "execution_count": null,
   "id": "pX47aZeola0l",
   "metadata": {
    "id": "pX47aZeola0l"
   },
   "outputs": [],
   "source": [
    "df_total.to_pickle('/content/drive/MyDrive/ADAgang/generated/total-data-merged.pkl.bz2', compression='bz2')"
   ]
  },
  {
   "cell_type": "code",
   "execution_count": null,
   "id": "kO4ypxyj1c8B",
   "metadata": {
    "id": "kO4ypxyj1c8B"
   },
   "outputs": [],
   "source": []
  }
 ],
 "metadata": {
  "colab": {
   "collapsed_sections": [],
   "name": "data_wrangling.ipynb",
   "provenance": []
  },
  "kernelspec": {
   "display_name": "Python 3 (ipykernel)",
   "language": "python",
   "name": "python3"
  },
  "language_info": {
   "codemirror_mode": {
    "name": "ipython",
    "version": 3
   },
   "file_extension": ".py",
   "mimetype": "text/x-python",
   "name": "python",
   "nbconvert_exporter": "python",
   "pygments_lexer": "ipython3",
   "version": "3.8.8"
  }
 },
 "nbformat": 4,
 "nbformat_minor": 5
}
